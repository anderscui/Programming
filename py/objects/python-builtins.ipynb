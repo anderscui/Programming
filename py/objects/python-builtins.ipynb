{
 "cells": [
  {
   "cell_type": "markdown",
   "metadata": {},
   "source": [
    "# Built-in Types for Representing Data\n",
    "\n",
    "There are approximately a dozen built-in data types that are used to represent most of the data used in programs.\n",
    "\n",
    "Type Category | Type Name | Description\n",
    "---|---|---\n",
    "None | type(None) | null object\n",
    "Numbers | int / long / float / complex / bool | numbers\n",
    "Seq | str / unicode / list / tuple / xrange | sequences\n",
    "Mapping | dict | dict\n",
    "Sets | set / frozenset | mutable / immutable\n",
    "\n",
    "## The `None` Type"
   ]
  },
  {
   "cell_type": "code",
   "execution_count": 5,
   "metadata": {
    "collapsed": false
   },
   "outputs": [
    {
     "name": "stdout",
     "output_type": "stream",
     "text": [
      "True\n",
      "True\n",
      "True\n"
     ]
    }
   ],
   "source": [
    "# null values\n",
    "none = None\n",
    "print(none is None)\n",
    "print(none == None)\n",
    "print(isinstance(none, type(None)))"
   ]
  },
  {
   "cell_type": "markdown",
   "metadata": {},
   "source": [
    "## Numeric Types\n",
    "\n",
    "Except for booleans, all numeric objects are signed, all numeric types are immutable.\n",
    "\n",
    "`True` and `False` are respectively mapped to the numerical values of 1 and 0.\n",
    "\n",
    "`int` numbers are similar to integer types in other languages, but `long` numbers represent whole numbers of **unlimited** range. In Python 3, the two types have been unified into a single integer type.\n",
    "\n",
    "`float` numbers are equivalent to `double` in C (IEEE 754, 64bit). If you have issues like overflow, use numpy extension instead."
   ]
  },
  {
   "cell_type": "code",
   "execution_count": 6,
   "metadata": {
    "collapsed": false
   },
   "outputs": [
    {
     "name": "stdout",
     "output_type": "stream",
     "text": [
      "(3.0, 4.0)\n",
      "(3-4j)\n"
     ]
    }
   ],
   "source": [
    "# complex numbers\n",
    "c = 3 + 4j\n",
    "print(c.real, c.imag)\n",
    "print(c.conjugate())"
   ]
  },
  {
   "cell_type": "code",
   "execution_count": 7,
   "metadata": {
    "collapsed": false,
    "scrolled": true
   },
   "outputs": [
    {
     "name": "stdout",
     "output_type": "stream",
     "text": [
      "(5, 1)\n",
      "(1, 2)\n",
      "False\n",
      "(5, 1)\n",
      "True\n",
      "0x1.4000000000000p+2\n"
     ]
    }
   ],
   "source": [
    "# operations\n",
    "# arithmetic\n",
    "i = 5\n",
    "print(i.numerator, i.denominator)\n",
    "\n",
    "x = 0.5\n",
    "print(x.as_integer_ratio())\n",
    "print(x.is_integer())\n",
    "\n",
    "y = 5.0\n",
    "print(y.as_integer_ratio())\n",
    "print(y.is_integer())\n",
    "print(y.hex())"
   ]
  },
  {
   "cell_type": "markdown",
   "metadata": {},
   "source": [
    "Several additional numeric types are defined in library modules, such as `decimal` and `fractions`.\n",
    "\n",
    "## Sequence Types\n",
    "\n",
    "`Sequences` represent ordered sets of objects indexed by non-negative integers, including strings, lists, and tuples.\n",
    "\n",
    "All sequences support interation.\n",
    "\n",
    "### Lists\n",
    "\n",
    "### Strings\n",
    "\n",
    "Python 2 provides two string object types: byte strings and unicode strings.\n",
    "\n",
    "### xrange() Objects\n",
    "\n",
    "In Python 3, `xrange()` has been renamed to `range()`.\n",
    "\n",
    "## Mapping Types\n",
    "\n",
    "Dictionaries are the only built-in mapping type and are Python's version of hash table or associative array.\n",
    "\n",
    "## Set Types\n",
    "A `set` is an unordered collection of unique items, sets provide no indexing or slicing operations."
   ]
  },
  {
   "cell_type": "markdown",
   "metadata": {},
   "source": [
    "# Built-in Types for Representing Program Structure\n",
    "\n"
   ]
  },
  {
   "cell_type": "code",
   "execution_count": null,
   "metadata": {
    "collapsed": true
   },
   "outputs": [],
   "source": []
  }
 ],
 "metadata": {
  "kernelspec": {
   "display_name": "Python 2",
   "language": "python",
   "name": "python2"
  },
  "language_info": {
   "codemirror_mode": {
    "name": "ipython",
    "version": 2
   },
   "file_extension": ".py",
   "mimetype": "text/x-python",
   "name": "python",
   "nbconvert_exporter": "python",
   "pygments_lexer": "ipython2",
   "version": "2.7.8"
  }
 },
 "nbformat": 4,
 "nbformat_minor": 0
}
