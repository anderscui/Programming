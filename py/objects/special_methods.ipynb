{
 "cells": [
  {
   "cell_type": "markdown",
   "metadata": {},
   "source": [
    "# Special Methods in Python\n",
    "\n",
    "Objects in Python are generally classified according to their **behaviors** and the **features** that they impelment. e.g. strings, lists and tuples are grouped together merely because they all happen to support a common set of sequence operations such indexing and slicing.\n",
    "\n",
    "All basic interpreter operations are implemented through special object methods. The names of special methods always preceded and followed by double `__`.\n",
    "\n",
    "The next few sections describe the special methods associated with different categories of interpreter features.\n",
    "\n",
    "## Object Creation and Destruction\n",
    "\n",
    "Method | Description\n",
    "--- | ---\n",
    "`__new__` | called to create a new inst\n",
    "`__init__` | called to init a new inst\n",
    "`__del__` | called when an inst is being destroyed\n",
    "\n",
    "In user-defined objects, it is rare to define `__new__` and `__del__`. (see page 55)\n",
    "\n",
    "## Object String Repr\n",
    "\n",
    "Method | Description\n",
    "--- | ---\n",
    "`__format__` | create a formatted repr\n",
    "`__repr__` | create a string repr of an object\n",
    "`__str__` | create a simple str repr\n",
    "\n",
    "The `__repr__` normally returns an expression string that can be evaluated to re-create the object; this is also the method responsible for creating the output of values you wee in the interactive interpreter."
   ]
  },
  {
   "cell_type": "code",
   "execution_count": 1,
   "metadata": {
    "collapsed": false
   },
   "outputs": [
    {
     "name": "stdout",
     "output_type": "stream",
     "text": [
      "[1, 2, 3]\n"
     ]
    }
   ],
   "source": [
    "a = [1, 2, 3]\n",
    "s = repr(a)\n",
    "b = eval(s)\n",
    "print(b)\n",
    "assert a == b"
   ]
  },
  {
   "cell_type": "markdown",
   "metadata": {},
   "source": [
    "If you are the author of an object, and it cannot create a string exp, the convention is for `__repr__` to return a string of the form `<... message ...>`.\n",
    "\n",
    "The `__str__` is called by `str` function or functions related to printing. The string it returns can be more concise and informative to the user. If it is undefined, the `__repr__` is invoked.\n",
    "\n",
    "The `__format__` is called by `format` function or `str.format`.\n",
    "\n",
    "## Object Comparison and Ordering\n",
    "\n",
    "### Object Testing and Hashing\n",
    "Method | Description\n",
    "--- | ---\n",
    "`__bool__` | truth-value testing\n",
    "`__hash__` | computes an int hash index\n",
    "\n",
    "### Comparisons\n",
    "Method | Description\n",
    "--- | ---\n",
    "`__lt__` | <\n",
    "`__le__` | <=\n",
    "`__gt__` | >\n",
    "`__ge__` | >=\n",
    "`__eq__` | ==\n",
    "`__ne__` | !=\n",
    "\n",
    "If you want to be able to sort objects or use functions like max or min, you have to define `__lt__`; if you want to compare objects using == or use an object as a dict key, you have to define `__eq__`.\n",
    "\n",
    "## Type Checking\n",
    "Method | Description\n",
    "--- | ---\n",
    "`__instancecheck__` | isinstance\n",
    "`__subclasscheck__` | issubclass\n",
    "\n",
    "## Attribute Access\n",
    "Method | Description\n",
    "--- | ---\n",
    "`__getattribute__` | self.name\n",
    "`__getattr__` | self.name or AttributeError\n",
    "`__setattr__` | self.name = value\n",
    "`__delattr__` | del self.name\n",
    "\n",
    "## Attribute Wrapping and Descriptors\n",
    "\n",
    "TODO\n",
    "\n",
    "## Seq and Mapping Methods\n",
    "\n",
    "Method | Description\n",
    "--- | ---\n",
    "`__len__` | length\n",
    "`__getitem__` | self[key]\n",
    "`__setitem__` | self[key] = value\n",
    "`__delitem__` | del self[key]\n",
    "`__contains__` | if `obj` in self\n",
    "\n",
    "## Iteration\n",
    "\n",
    "`__iter__`\n",
    "\n",
    "## Mathematical Operations\n",
    "\n",
    "TODO: Many methods\n",
    "\n",
    "Note methods like `__int__`. (when calling `int()`)\n",
    "\n",
    "## Callable Interface\n",
    "\n",
    "`__call__`\n",
    "\n",
    "## Context Management Protocol\n",
    "\n",
    "`__enter__` and `__exit__`\n",
    "\n",
    "## Object Inspection and dir()\n",
    "\n",
    "`__dir__`\n",
    "\n"
   ]
  },
  {
   "cell_type": "code",
   "execution_count": null,
   "metadata": {
    "collapsed": true
   },
   "outputs": [],
   "source": []
  }
 ],
 "metadata": {
  "kernelspec": {
   "display_name": "Python 2",
   "language": "python",
   "name": "python2"
  },
  "language_info": {
   "codemirror_mode": {
    "name": "ipython",
    "version": 2
   },
   "file_extension": ".py",
   "mimetype": "text/x-python",
   "name": "python",
   "nbconvert_exporter": "python",
   "pygments_lexer": "ipython2",
   "version": "2.7.10"
  }
 },
 "nbformat": 4,
 "nbformat_minor": 0
}
