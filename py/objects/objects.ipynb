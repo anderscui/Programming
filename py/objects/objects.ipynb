{
 "cells": [
  {
   "cell_type": "markdown",
   "metadata": {},
   "source": [
    "# Types and Objects\n",
    "\n",
    "## Object Identity and Type"
   ]
  },
  {
   "cell_type": "code",
   "execution_count": 5,
   "metadata": {
    "collapsed": false
   },
   "outputs": [
    {
     "name": "stdout",
     "output_type": "stream",
     "text": [
      "[1]\n",
      "{1: 'one'}\n"
     ]
    }
   ],
   "source": [
    "o = []\n",
    "if type(o) is list:\n",
    "    o.append(1)\n",
    "    \n",
    "d = {}\n",
    "if type(d) is dict:\n",
    "    d[1] = 'one'\n",
    "    \n",
    "print(o)\n",
    "print(d)"
   ]
  },
  {
   "cell_type": "markdown",
   "metadata": {},
   "source": [
    "Because types can be specialized by defining classes, a better way to check types is to use the built-in `isinstance(object, type)` function."
   ]
  },
  {
   "cell_type": "code",
   "execution_count": 6,
   "metadata": {
    "collapsed": false
   },
   "outputs": [
    {
     "name": "stdout",
     "output_type": "stream",
     "text": [
      "[1, 2]\n"
     ]
    }
   ],
   "source": [
    "if isinstance(o, list):\n",
    "    o.append(2)\n",
    "print(o)"
   ]
  },
  {
   "cell_type": "markdown",
   "metadata": {},
   "source": [
    "Because the `isinstance()` function is aware of inheritance, it is the preferred way to check the type of any Python object.\n",
    "\n",
    "Although type checks can be added to a program, type checking is often not as useful as you might imagine.\n",
    "\n",
    "1. excessive checking severely affects performance.\n",
    "2. programs don't always define objects that neatly fit into an inheritance hierarchy. e.g. in some cases, what we really want is a list-like object instead of a list.\n",
    "\n",
    "## Reference Counting and GC\n",
    "\n",
    "**All objects are reference-counted**. An object's reference count is increased whenever it's assigned to a new name or placed in a container such as a list or tuple."
   ]
  },
  {
   "cell_type": "code",
   "execution_count": 18,
   "metadata": {
    "collapsed": false
   },
   "outputs": [
    {
     "name": "stdout",
     "output_type": "stream",
     "text": [
      "27\n"
     ]
    }
   ],
   "source": [
    "# one object, three references\n",
    "a = 37\n",
    "b = a\n",
    "c = []\n",
    "c.append(b)\n",
    "\n",
    "import sys\n",
    "print(sys.getrefcount(a))"
   ]
  },
  {
   "cell_type": "markdown",
   "metadata": {},
   "source": [
    "An object's reference count is decreased by the `del` statement or whenever a reference goes out of scope."
   ]
  },
  {
   "cell_type": "code",
   "execution_count": 19,
   "metadata": {
    "collapsed": false
   },
   "outputs": [
    {
     "name": "stdout",
     "output_type": "stream",
     "text": [
      "37\n",
      "30\n"
     ]
    }
   ],
   "source": [
    "del a\n",
    "print(b)\n",
    "b = 42\n",
    "\n",
    "print(sys.getrefcount(b))"
   ]
  },
  {
   "cell_type": "markdown",
   "metadata": {},
   "source": [
    "In many cases, the ref count is much higher than you might guess. For immutable data such as numbers and strings, the interpreter aggressively shares objects between different parts of the program in order to conserve memory.\n",
    "\n",
    "When an object's ref count reaches zero, it is gargage-collected. However, in some cases a circular dependency may exist."
   ]
  },
  {
   "cell_type": "code",
   "execution_count": 20,
   "metadata": {
    "collapsed": true
   },
   "outputs": [],
   "source": [
    "a = {}\n",
    "b = {}\n",
    "a['b'] = b\n",
    "b['a'] = a\n",
    "del a\n",
    "del b"
   ]
  },
  {
   "cell_type": "markdown",
   "metadata": {},
   "source": [
    "This code results in a memory leak. Python interpreter periodically executes a **cycle detector** that searches for cycles of inaccessible objects and deletes them. The exact behavior can be fine-tuned and controlled using functions in the `gc` module."
   ]
  },
  {
   "cell_type": "markdown",
   "metadata": {},
   "source": [
    "### References and Copies\n",
    "\n",
    "If `a` is immutable, and a program runs `b = a`, a new reference to b (copy) is created. The behavior is quite different for mutable object such as lists and dicts."
   ]
  },
  {
   "cell_type": "code",
   "execution_count": 22,
   "metadata": {
    "collapsed": false
   },
   "outputs": [
    {
     "name": "stdout",
     "output_type": "stream",
     "text": [
      "True\n",
      "3\n",
      "[1, 2, 10]\n"
     ]
    }
   ],
   "source": [
    "a = [1, 2, 3]\n",
    "b = a\n",
    "\n",
    "print(b is a)\n",
    "print(sys.getrefcount(a))\n",
    "\n",
    "b[2] = 10\n",
    "print(a)"
   ]
  },
  {
   "cell_type": "markdown",
   "metadata": {},
   "source": [
    "You might have to create a copy of an object rather than a new reference."
   ]
  },
  {
   "cell_type": "markdown",
   "metadata": {},
   "source": [
    "A *shallow copy* creates a new object but populates it with references to the items contained in the original object."
   ]
  },
  {
   "cell_type": "code",
   "execution_count": 26,
   "metadata": {
    "collapsed": false
   },
   "outputs": [
    {
     "name": "stdout",
     "output_type": "stream",
     "text": [
      "[11, 2, [-100, 4], 100]\n",
      "[1, 2, [-100, 4]]\n"
     ]
    }
   ],
   "source": [
    "a = [1, 2, [3, 4]]\n",
    "b = list(a)  # shallow copy\n",
    "assert (b is not a)\n",
    "\n",
    "b.append(100)  # a is unchanged\n",
    "b[0] = 11\n",
    "b[2][0] = -100\n",
    "\n",
    "print(b)\n",
    "print(a)"
   ]
  },
  {
   "cell_type": "code",
   "execution_count": null,
   "metadata": {
    "collapsed": true
   },
   "outputs": [],
   "source": []
  }
 ],
 "metadata": {
  "kernelspec": {
   "display_name": "Python 2",
   "language": "python",
   "name": "python2"
  },
  "language_info": {
   "codemirror_mode": {
    "name": "ipython",
    "version": 2
   },
   "file_extension": ".py",
   "mimetype": "text/x-python",
   "name": "python",
   "nbconvert_exporter": "python",
   "pygments_lexer": "ipython2",
   "version": "2.7.10"
  }
 },
 "nbformat": 4,
 "nbformat_minor": 0
}
