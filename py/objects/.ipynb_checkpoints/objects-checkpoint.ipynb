{
 "cells": [
  {
   "cell_type": "markdown",
   "metadata": {},
   "source": [
    "# Types and Objects\n",
    "\n",
    "## Object Identity and Type"
   ]
  },
  {
   "cell_type": "code",
   "execution_count": 5,
   "metadata": {
    "collapsed": false
   },
   "outputs": [
    {
     "name": "stdout",
     "output_type": "stream",
     "text": [
      "[1]\n",
      "{1: 'one'}\n"
     ]
    }
   ],
   "source": [
    "o = []\n",
    "if type(o) is list:\n",
    "    o.append(1)\n",
    "    \n",
    "d = {}\n",
    "if type(d) is dict:\n",
    "    d[1] = 'one'\n",
    "    \n",
    "print(o)\n",
    "print(d)"
   ]
  },
  {
   "cell_type": "markdown",
   "metadata": {},
   "source": [
    "Because types can be specialized by defining classes, a better way to check types is to use the built-in `isinstance(object, type)` function."
   ]
  },
  {
   "cell_type": "code",
   "execution_count": 6,
   "metadata": {
    "collapsed": false
   },
   "outputs": [
    {
     "name": "stdout",
     "output_type": "stream",
     "text": [
      "[1, 2]\n"
     ]
    }
   ],
   "source": [
    "if isinstance(o, list):\n",
    "    o.append(2)\n",
    "print(o)"
   ]
  },
  {
   "cell_type": "markdown",
   "metadata": {},
   "source": [
    "Because the `isinstance()` function is aware of inheritance, it is the preferred way to check the type of any Python object.\n",
    "\n",
    "Although type checks can be added to a program, type checking is often not as useful as you might imagine.\n",
    "\n",
    "1. excessive checking severely affects performance.\n",
    "2. programs don't always define objects that neatly fit into an inheritance hierarchy. e.g. in some cases, what we really want is a list-like object instead of a list.\n",
    "\n",
    "## Reference Counting and GC\n",
    "\n",
    "**All objects are reference-counted**. An object's reference count is increased whenever it's assigned to a new name or placed in a container such as a list or tuple."
   ]
  },
  {
   "cell_type": "code",
   "execution_count": 18,
   "metadata": {
    "collapsed": false
   },
   "outputs": [
    {
     "name": "stdout",
     "output_type": "stream",
     "text": [
      "27\n"
     ]
    }
   ],
   "source": [
    "# one object, three references\n",
    "a = 37\n",
    "b = a\n",
    "c = []\n",
    "c.append(b)\n",
    "\n",
    "import sys\n",
    "print(sys.getrefcount(a))"
   ]
  },
  {
   "cell_type": "markdown",
   "metadata": {},
   "source": [
    "An object's reference count is decreased by the `del` statement or whenever a reference goes out of scope."
   ]
  },
  {
   "cell_type": "code",
   "execution_count": 19,
   "metadata": {
    "collapsed": false
   },
   "outputs": [
    {
     "name": "stdout",
     "output_type": "stream",
     "text": [
      "37\n",
      "30\n"
     ]
    }
   ],
   "source": [
    "del a\n",
    "print(b)\n",
    "b = 42\n",
    "\n",
    "print(sys.getrefcount(b))"
   ]
  },
  {
   "cell_type": "markdown",
   "metadata": {},
   "source": [
    "In many cases, the ref count is much higher than you might guess. For immutable data such as numbers and strings, the interpreter aggressively shares objects between different parts of the program in order to conserve memory.\n",
    "\n",
    "When an object's ref count reaches zero, it is gargage-collected. However, in some cases a circular dependency may exist."
   ]
  },
  {
   "cell_type": "code",
   "execution_count": null,
   "metadata": {
    "collapsed": true
   },
   "outputs": [],
   "source": []
  }
 ],
 "metadata": {
  "kernelspec": {
   "display_name": "Python 2",
   "language": "python",
   "name": "python2"
  },
  "language_info": {
   "codemirror_mode": {
    "name": "ipython",
    "version": 2
   },
   "file_extension": ".py",
   "mimetype": "text/x-python",
   "name": "python",
   "nbconvert_exporter": "python",
   "pygments_lexer": "ipython2",
   "version": "2.7.10"
  }
 },
 "nbformat": 4,
 "nbformat_minor": 0
}
