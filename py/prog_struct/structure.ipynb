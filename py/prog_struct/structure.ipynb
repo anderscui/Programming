{
 "cells": [
  {
   "cell_type": "markdown",
   "metadata": {},
   "source": [
    "# Program Structure and Control Flow\n",
    "\n",
    "## Program Structure and Execution\n",
    "\n",
    "Python programs are structured as a sequence of statements. There are no \"special\" statements, and every statement can be placed anywhere in a program.\n",
    "\n",
    "## Conditional Execution\n",
    "\n",
    "`if`, `else` and `elif`\n",
    "\n",
    "## Loops and Iteration\n",
    "\n",
    "`for`, `while`\n"
   ]
  },
  {
   "cell_type": "code",
   "execution_count": 1,
   "metadata": {
    "collapsed": false
   },
   "outputs": [
    {
     "name": "stdout",
     "output_type": "stream",
     "text": [
      "0 5\n",
      "1 6\n",
      "2 7\n",
      "3 8\n",
      "4 9\n"
     ]
    }
   ],
   "source": [
    "# enumerate\n",
    "s = xrange(5, 10)\n",
    "for i, x in enumerate(s):\n",
    "    print i, x"
   ]
  },
  {
   "cell_type": "code",
   "execution_count": 2,
   "metadata": {
    "collapsed": false
   },
   "outputs": [
    {
     "name": "stdout",
     "output_type": "stream",
     "text": [
      "1 2\n",
      "2 3\n",
      "3 4\n",
      "4 5\n",
      "5 6\n"
     ]
    }
   ],
   "source": [
    "# two seqs\n",
    "s1 = xrange(1, 6)\n",
    "s2 = xrange(2, 10)\n",
    "for x, y in zip(s1, s2):\n",
    "    print x, y"
   ]
  },
  {
   "cell_type": "code",
   "execution_count": null,
   "metadata": {
    "collapsed": true
   },
   "outputs": [],
   "source": []
  }
 ],
 "metadata": {
  "kernelspec": {
   "display_name": "Python 2",
   "language": "python",
   "name": "python2"
  },
  "language_info": {
   "codemirror_mode": {
    "name": "ipython",
    "version": 2
   },
   "file_extension": ".py",
   "mimetype": "text/x-python",
   "name": "python",
   "nbconvert_exporter": "python",
   "pygments_lexer": "ipython2",
   "version": "2.7.10"
  }
 },
 "nbformat": 4,
 "nbformat_minor": 0
}
