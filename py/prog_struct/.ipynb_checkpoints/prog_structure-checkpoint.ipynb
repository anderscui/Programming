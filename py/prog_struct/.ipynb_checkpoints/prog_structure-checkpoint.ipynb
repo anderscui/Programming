{
 "cells": [
  {
   "cell_type": "markdown",
   "metadata": {},
   "source": [
    "## Program Structure and Execution\n",
    "\n",
    "Python programs are structured as a sequence of statements. There are no special statements, every statement can be placed anywhere in a program."
   ]
  },
  {
   "cell_type": "code",
   "execution_count": 1,
   "metadata": {
    "collapsed": false
   },
   "outputs": [
    {
     "name": "stdout",
     "output_type": "stream",
     "text": [
      "0 1 2 job done\n"
     ]
    }
   ],
   "source": [
    "for i in xrange(3):\n",
    "    print i,\n",
    "else:\n",
    "    print('job done')"
   ]
  },
  {
   "cell_type": "markdown",
   "metadata": {},
   "source": [
    "## Exceptions\n",
    "\n",
    "Exceptions indicate errors and break out of the normal control flow of a program. An exception is raised using the raise statement."
   ]
  },
  {
   "cell_type": "code",
   "execution_count": 7,
   "metadata": {
    "collapsed": false
   },
   "outputs": [
    {
     "name": "stdout",
     "output_type": "stream",
     "text": [
      "[Errno 2] No such file or directory: 'foo'\n",
      "cleanup\n"
     ]
    }
   ],
   "source": [
    "try:\n",
    "    f = open('foo')\n",
    "except IOError as e:\n",
    "    print e\n",
    "else:\n",
    "    data = f.read()\n",
    "finally:\n",
    "    print('cleanup')"
   ]
  },
  {
   "cell_type": "code",
   "execution_count": 4,
   "metadata": {
    "collapsed": true
   },
   "outputs": [],
   "source": [
    "import sys\n",
    "\n",
    "\n",
    "def sys_ex_hook(extype, val, tb):\n",
    "    print('Oops, some error occurred...')\n",
    "\n",
    "    print(extype)\n",
    "    print(val)\n",
    "\n",
    "# application level ex hook\n",
    "sys.excepthook = sys_ex_hook"
   ]
  },
  {
   "cell_type": "markdown",
   "metadata": {},
   "source": [
    "### Built-in Exceptions\n",
    "\n",
    "Important ones:\n",
    "\n",
    "Exception | Desc\n",
    "--- | ---\n",
    "BaseException | root of all\n",
    "GeneratorExit |\n",
    "KeyboardInterrupt |\n",
    "SystemExit |\n",
    "Exception | base of all non-exiting ones\n",
    "StandardError | py2\n",
    "ArithmeticError |\n",
    "EnvironmentError |\n",
    "IOError |\n",
    "OSError |\n",
    "ImportError |\n",
    "NameE |\n",
    "SyntaxE |\n",
    "TypeE |\n",
    "ValueE |\n",
    "... |"
   ]
  },
  {
   "cell_type": "markdown",
   "metadata": {},
   "source": [
    "### Custom Exceptions\n",
    "\n",
    "When creating a custom ex that redefines `__init__`, note to assign a tuple containing the args to `__init__` to the self.args as below, it is used when printing exception trackback messages."
   ]
  },
  {
   "cell_type": "code",
   "execution_count": 8,
   "metadata": {
    "collapsed": false
   },
   "outputs": [
    {
     "ename": "DeviceError",
     "evalue": "(666, 'Not Responding')",
     "output_type": "error",
     "traceback": [
      "\u001b[1;31m---------------------------------------------------------------------------\u001b[0m",
      "\u001b[1;31mDeviceError\u001b[0m                               Traceback (most recent call last)",
      "\u001b[1;32m<ipython-input-8-3b3af4087b1e>\u001b[0m in \u001b[0;36m<module>\u001b[1;34m()\u001b[0m\n\u001b[0;32m      6\u001b[0m \u001b[1;33m\u001b[0m\u001b[0m\n\u001b[0;32m      7\u001b[0m \u001b[1;31m# raise one\u001b[0m\u001b[1;33m\u001b[0m\u001b[1;33m\u001b[0m\u001b[0m\n\u001b[1;32m----> 8\u001b[1;33m \u001b[1;32mraise\u001b[0m \u001b[0mDeviceError\u001b[0m\u001b[1;33m(\u001b[0m\u001b[1;36m666\u001b[0m\u001b[1;33m,\u001b[0m \u001b[1;34m'Not Responding'\u001b[0m\u001b[1;33m)\u001b[0m\u001b[1;33m\u001b[0m\u001b[0m\n\u001b[0m",
      "\u001b[1;31mDeviceError\u001b[0m: (666, 'Not Responding')"
     ]
    }
   ],
   "source": [
    "class DeviceError(Exception):\n",
    "    def __init__(self, errno, msg):\n",
    "        self.args = (errno, msg)\n",
    "        self.errno = errno\n",
    "        self.errmsg = msg\n",
    "\n",
    "# raise one\n",
    "raise DeviceError(666, 'Not Responding')"
   ]
  },
  {
   "cell_type": "markdown",
   "metadata": {},
   "source": [
    "## Context Managers and the `with` Statement\n",
    "\n",
    "Proper management of system resources such as files, locks, and connections is often a tricky problem when combined with excpetions.\n",
    "\n",
    "The `with` statement allows a series of statement to execute inside a runtime context controlled by an object that serves as a context manager."
   ]
  },
  {
   "cell_type": "code",
   "execution_count": 9,
   "metadata": {
    "collapsed": false
   },
   "outputs": [
    {
     "ename": "IOError",
     "evalue": "[Errno 2] No such file or directory: '../notes.md'",
     "output_type": "error",
     "traceback": [
      "\u001b[1;31m---------------------------------------------------------------------------\u001b[0m",
      "\u001b[1;31mIOError\u001b[0m                                   Traceback (most recent call last)",
      "\u001b[1;32m<ipython-input-9-c4bda4d7b64d>\u001b[0m in \u001b[0;36m<module>\u001b[1;34m()\u001b[0m\n\u001b[1;32m----> 1\u001b[1;33m \u001b[1;32mwith\u001b[0m \u001b[0mopen\u001b[0m\u001b[1;33m(\u001b[0m\u001b[1;34m'../notes.md'\u001b[0m\u001b[1;33m)\u001b[0m \u001b[1;32mas\u001b[0m \u001b[0mf\u001b[0m\u001b[1;33m:\u001b[0m\u001b[1;33m\u001b[0m\u001b[0m\n\u001b[0m\u001b[0;32m      2\u001b[0m     \u001b[0mlines\u001b[0m \u001b[1;33m=\u001b[0m \u001b[0mf\u001b[0m\u001b[1;33m.\u001b[0m\u001b[0mreadlines\u001b[0m\u001b[1;33m(\u001b[0m\u001b[1;33m)\u001b[0m\u001b[1;33m\u001b[0m\u001b[0m\n\u001b[0;32m      3\u001b[0m     \u001b[1;32mprint\u001b[0m\u001b[1;33m(\u001b[0m\u001b[1;34m'you have %d lines'\u001b[0m \u001b[1;33m%\u001b[0m \u001b[0mlen\u001b[0m\u001b[1;33m(\u001b[0m\u001b[0mlines\u001b[0m\u001b[1;33m)\u001b[0m\u001b[1;33m)\u001b[0m\u001b[1;33m\u001b[0m\u001b[0m\n",
      "\u001b[1;31mIOError\u001b[0m: [Errno 2] No such file or directory: '../notes.md'"
     ]
    }
   ],
   "source": [
    "with open('../notes.md') as f:\n",
    "    lines = f.readlines()\n",
    "    print('you have %d lines' % len(lines))"
   ]
  },
  {
   "cell_type": "markdown",
   "metadata": {},
   "source": [
    "- `__enter__`\n",
    "- `__exit__`"
   ]
  },
  {
   "cell_type": "markdown",
   "metadata": {},
   "source": [
    "## Assertions and `__debug__`"
   ]
  },
  {
   "cell_type": "code",
   "execution_count": null,
   "metadata": {
    "collapsed": true
   },
   "outputs": [],
   "source": []
  }
 ],
 "metadata": {
  "kernelspec": {
   "display_name": "Python 2",
   "language": "python",
   "name": "python2"
  },
  "language_info": {
   "codemirror_mode": {
    "name": "ipython",
    "version": 2
   },
   "file_extension": ".py",
   "mimetype": "text/x-python",
   "name": "python",
   "nbconvert_exporter": "python",
   "pygments_lexer": "ipython2",
   "version": "2.7.8"
  }
 },
 "nbformat": 4,
 "nbformat_minor": 0
}
