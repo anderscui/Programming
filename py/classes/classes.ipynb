{
 "cells": [
  {
   "cell_type": "markdown",
   "metadata": {},
   "source": [
    "# Classes and OOP\n",
    "\n",
    "Classes are the mechanism used to create new kinds of objects.\n",
    "\n",
    "## The `class` Statement\n",
    "\n",
    "A `class` defines a set of attributes that are **associated with**, and **shared by**, a collection of objects known as **instances**. A class is most commonly a collection of functions (known as **methods**), variables (which are known as **class variables**), and computed attributes (which are known as **properties**)."
   ]
  },
  {
   "cell_type": "code",
   "execution_count": 2,
   "metadata": {
    "collapsed": false
   },
   "outputs": [
    {
     "name": "stdout",
     "output_type": "stream",
     "text": [
      "1000.0\n",
      "1100.0\n",
      "Guido\n"
     ]
    }
   ],
   "source": [
    "class Account(object):\n",
    "    # class variable, shared by all instances.\n",
    "    num_accounts = 0\n",
    "\n",
    "    def __init__(self, name, balance):\n",
    "        self.name = name\n",
    "        self.balance = balance\n",
    "        Account.num_accounts += 1\n",
    "\n",
    "    def __del__(self):\n",
    "        Account.num_accounts -= 1\n",
    "\n",
    "    # instance method.\n",
    "    def deposit(self, amt):\n",
    "        self.balance += amt\n",
    "\n",
    "    def withdraw(self, amt):\n",
    "        self.balance -= amt\n",
    "\n",
    "    def inquiry(self):\n",
    "        return self.balance\n",
    "    \n",
    "a = Account('Guido', 1000.00)\n",
    "\n",
    "print(a.inquiry())\n",
    "a.deposit(100)\n",
    "print(a.inquiry())\n",
    "print(a.name)"
   ]
  },
  {
   "cell_type": "markdown",
   "metadata": {},
   "source": [
    "When you access an attribute, the instance is checked first and if nothing is known, the search moves to the instance’s class instead. This is the underlying mechanism by which a class shares its attributes with all of its instances.\n",
    "\n",
    "## Scoping Rules\n",
    "\n",
    "Although classes define a namespace, classes do not create a scope for names used inside the bodies of methods. Therefore, when you’re implementing a class, references to attributes and methods must be fully qualified. For example, in methods you always reference attributes of the instance through self.\n",
    "\n",
    "The explicit use of self is required because **Python does not provide a means to explicitly declare variables** (that is, a declaration such as `int x` or `float y` in C). Without this, there is no way to know whether an assignment to a variable in a method is supposed to be a local variable or if it’s supposed to be saved as an instance attribute.\n",
    "\n",
    "## Inheritance\n",
    "\n",
    "*Inheritance* is a mechanism for creating a new class that specializes or modifies the behavior of an existing class.The original class is called a *base class* or a superclass.The new class is called a *derived class* or a subclass.\n",
    "\n"
   ]
  },
  {
   "cell_type": "code",
   "execution_count": 4,
   "metadata": {
    "collapsed": false
   },
   "outputs": [
    {
     "name": "stdout",
     "output_type": "stream",
     "text": [
      "1010.0\n"
     ]
    }
   ],
   "source": [
    "import random\n",
    "\n",
    "class EvilAccount(Account):\n",
    "    def inquiry(self):\n",
    "        if random.randint(0, 4) == 1:\n",
    "            return self.balance * 1.10\n",
    "        else:\n",
    "            return self.balance\n",
    "\n",
    "c = EvilAccount(\"George\", 1000.0)\n",
    "c.deposit(10.0)\n",
    "print(c.inquiry())"
   ]
  },
  {
   "cell_type": "markdown",
   "metadata": {},
   "source": [
    "A subclass can add new attributes to the instances by defining its own version of `__init__()`. When a derived class defines `__init__()`, the `__init__()` methods of base classes are not automatically invoked. Therefore, it’s up to a derived class to perform the proper initialization of the base classes by calling their `__init__()` methods.\n",
    "\n",
    "If you don’t know whether the base class defines `__init__()`, it is always safe to call it without any arguments because\n",
    "there is always a default implementation that simply does nothing.\n",
    "\n",
    "Python supports multiple inheritance.This is specified by having a class list multiple base classes."
   ]
  },
  {
   "cell_type": "markdown",
   "metadata": {},
   "source": [
    "### Mixin\n",
    "\n",
    "See more: [Mixin](https://en.wikipedia.org/wiki/Mixin)"
   ]
  },
  {
   "cell_type": "markdown",
   "metadata": {},
   "source": [
    "## Polymorphism Dynamic Binding and Duck Typing\n",
    "\n",
    "*Dynamic binding* (also sometimes referred to as polymorphism when used in the context of inheritance) is the capability to use an instance without regard for its type. It is handled entirely through the attribute lookup process described for inheritance in the preceding section.\n",
    "\n",
    "A critical aspect of this binding process is that *it is independent of what kind of object obj is*. Thus, if you make a lookup such as obj.name, it will work on any obj that happens to have a name attribute. This behavior is sometimes referred to as duck typing in reference to the **adage “if it looks like, quacks like, and walks like a duck, then it’s a duck.”**\n",
    "\n",
    "This latter approach is often used to maintain a loose coupling of program components. One of the most common\n",
    "examples is with various “file-like” objects defined in the standard library. Although these objects work like files, they don’t inherit from the built-in file object.\n",
    "\n",
    "## Static Methods and Class Methods\n",
    "\n",
    "In a class definition, all functions are assumed to operate on an instance, which is always passed as the first parameter self. However, there are two other common kinds of methods that can be defined.\n",
    "\n",
    "A static method is an ordinary function that just happens to live in the namespace defined by a class. It does not operate on any kind of instance."
   ]
  },
  {
   "cell_type": "code",
   "execution_count": 5,
   "metadata": {
    "collapsed": false
   },
   "outputs": [
    {
     "name": "stdout",
     "output_type": "stream",
     "text": [
      "1/15/1970\n",
      "8/11/2015\n",
      "8/12/2015\n"
     ]
    }
   ],
   "source": [
    "import time\n",
    "\n",
    "class Date():\n",
    "\n",
    "    def __init__(self, year, month, day):\n",
    "        self.year = year\n",
    "        self.month = month\n",
    "        self.day = day\n",
    "\n",
    "    def __str__(self):\n",
    "        return '%d/%d/%d' % (self.month, self.day, self.year)\n",
    "\n",
    "    @staticmethod\n",
    "    def now():\n",
    "        t = time.localtime()\n",
    "        return Date(t.tm_year, t.tm_mon, t.tm_mday)\n",
    "\n",
    "    @staticmethod\n",
    "    def tomorrow():\n",
    "        t = time.localtime(time.time() + 86400)\n",
    "        return Date(t.tm_year, t.tm_mon, t.tm_mday)\n",
    "\n",
    "\n",
    "print(Date(1970, 1, 15))\n",
    "print(Date.now())\n",
    "print(Date.tomorrow())"
   ]
  },
  {
   "cell_type": "markdown",
   "metadata": {},
   "source": [
    "A common use of static methods is in writing classes where you might have many different ways to create new instances. Because there can only be one `__init__()` function, alternative creation functions are often defined by static methods.\n",
    "\n",
    "Class methods are methods that operate on the class itself as an object. Defined using the `@classmethod` decorator, a class method is different than an instance method in that the class is passed as the first argument which is named cls by convention."
   ]
  },
  {
   "cell_type": "code",
   "execution_count": 6,
   "metadata": {
    "collapsed": false
   },
   "outputs": [
    {
     "data": {
      "text/plain": [
       "6"
      ]
     },
     "execution_count": 6,
     "metadata": {},
     "output_type": "execute_result"
    }
   ],
   "source": [
    "class Times(object):\n",
    "    factor = 1\n",
    "\n",
    "    @classmethod\n",
    "    def mul(cls, x):\n",
    "        return cls.factor * x\n",
    "\n",
    "\n",
    "class TwoTimes(Times):\n",
    "    factor = 2\n",
    "\n",
    "TwoTimes.mul(3)"
   ]
  },
  {
   "cell_type": "markdown",
   "metadata": {},
   "source": [
    "## Properties\n",
    "\n",
    "Normally, when you access an attribute of an instance or a class, the associated value that is stored is returned. A property is *a special kind of attribute* that computes its value when accessed.\n",
    "\n"
   ]
  },
  {
   "cell_type": "code",
   "execution_count": 7,
   "metadata": {
    "collapsed": false
   },
   "outputs": [
    {
     "name": "stdout",
     "output_type": "stream",
     "text": [
      "4.0\n",
      "50.2654824574\n",
      "25.1327412287\n"
     ]
    },
    {
     "ename": "AttributeError",
     "evalue": "can't set attribute",
     "output_type": "error",
     "traceback": [
      "\u001b[1;31m---------------------------------------------------------------------------\u001b[0m",
      "\u001b[1;31mAttributeError\u001b[0m                            Traceback (most recent call last)",
      "\u001b[1;32m<ipython-input-7-7f52a6950c4f>\u001b[0m in \u001b[0;36m<module>\u001b[1;34m()\u001b[0m\n\u001b[0;32m     19\u001b[0m \u001b[1;32mprint\u001b[0m\u001b[1;33m(\u001b[0m\u001b[0mc\u001b[0m\u001b[1;33m.\u001b[0m\u001b[0marea\u001b[0m\u001b[1;33m)\u001b[0m\u001b[1;33m\u001b[0m\u001b[0m\n\u001b[0;32m     20\u001b[0m \u001b[1;32mprint\u001b[0m\u001b[1;33m(\u001b[0m\u001b[0mc\u001b[0m\u001b[1;33m.\u001b[0m\u001b[0mperimeter\u001b[0m\u001b[1;33m)\u001b[0m\u001b[1;33m\u001b[0m\u001b[0m\n\u001b[1;32m---> 21\u001b[1;33m \u001b[0mc\u001b[0m\u001b[1;33m.\u001b[0m\u001b[0marea\u001b[0m \u001b[1;33m=\u001b[0m \u001b[1;36m2\u001b[0m\u001b[1;33m\u001b[0m\u001b[0m\n\u001b[0m",
      "\u001b[1;31mAttributeError\u001b[0m: can't set attribute"
     ]
    }
   ],
   "source": [
    "import math\n",
    "\n",
    "class Circle(object):\n",
    "\n",
    "    def __init__(self, radius):\n",
    "        self.radius = radius\n",
    "\n",
    "    @property\n",
    "    def area(self):\n",
    "        return math.pi * self.radius ** 2\n",
    "\n",
    "    @property\n",
    "    def perimeter(self):\n",
    "        return 2 * math.pi * self.radius\n",
    "\n",
    "\n",
    "c = Circle(4.0)\n",
    "print(c.radius)\n",
    "print(c.area)\n",
    "print(c.perimeter)\n",
    "c.area = 2"
   ]
  },
  {
   "cell_type": "markdown",
   "metadata": {},
   "source": [
    "With properties, we don't need `()` explicitly. Using properties in this way is related to something known as the *Uniform Access Principle*. So c.radius and c.aear look similar.\n",
    "\n",
    "Properties can also **intercept operations** to set and delete an attribute. This is done by attaching additional setter and deleter methods to a property."
   ]
  },
  {
   "cell_type": "code",
   "execution_count": 8,
   "metadata": {
    "collapsed": false
   },
   "outputs": [
    {
     "name": "stdout",
     "output_type": "stream",
     "text": [
      "Guido\n"
     ]
    },
    {
     "ename": "TypeError",
     "evalue": "Must be a string.",
     "output_type": "error",
     "traceback": [
      "\u001b[1;31m---------------------------------------------------------------------------\u001b[0m",
      "\u001b[1;31mTypeError\u001b[0m                                 Traceback (most recent call last)",
      "\u001b[1;32m<ipython-input-8-a330d820c59d>\u001b[0m in \u001b[0;36m<module>\u001b[1;34m()\u001b[0m\n\u001b[0;32m     20\u001b[0m \u001b[1;32mprint\u001b[0m\u001b[1;33m(\u001b[0m\u001b[0mf\u001b[0m\u001b[1;33m.\u001b[0m\u001b[0mname\u001b[0m\u001b[1;33m)\u001b[0m\u001b[1;33m\u001b[0m\u001b[0m\n\u001b[0;32m     21\u001b[0m \u001b[0mf\u001b[0m\u001b[1;33m.\u001b[0m\u001b[0mname\u001b[0m \u001b[1;33m=\u001b[0m \u001b[1;34m\"Monty\"\u001b[0m\u001b[1;33m\u001b[0m\u001b[0m\n\u001b[1;32m---> 22\u001b[1;33m \u001b[0mf\u001b[0m\u001b[1;33m.\u001b[0m\u001b[0mname\u001b[0m \u001b[1;33m=\u001b[0m \u001b[1;36m42\u001b[0m\u001b[1;33m\u001b[0m\u001b[0m\n\u001b[0m\u001b[0;32m     23\u001b[0m \u001b[1;32mdel\u001b[0m \u001b[0mf\u001b[0m\u001b[1;33m.\u001b[0m\u001b[0mname\u001b[0m\u001b[1;33m\u001b[0m\u001b[0m\n",
      "\u001b[1;32m<ipython-input-8-a330d820c59d>\u001b[0m in \u001b[0;36mname\u001b[1;34m(self, value)\u001b[0m\n\u001b[0;32m     10\u001b[0m     \u001b[1;32mdef\u001b[0m \u001b[0mname\u001b[0m\u001b[1;33m(\u001b[0m\u001b[0mself\u001b[0m\u001b[1;33m,\u001b[0m \u001b[0mvalue\u001b[0m\u001b[1;33m)\u001b[0m\u001b[1;33m:\u001b[0m\u001b[1;33m\u001b[0m\u001b[0m\n\u001b[0;32m     11\u001b[0m         \u001b[1;32mif\u001b[0m \u001b[1;32mnot\u001b[0m \u001b[0misinstance\u001b[0m\u001b[1;33m(\u001b[0m\u001b[0mvalue\u001b[0m\u001b[1;33m,\u001b[0m \u001b[0mstr\u001b[0m\u001b[1;33m)\u001b[0m\u001b[1;33m:\u001b[0m\u001b[1;33m\u001b[0m\u001b[0m\n\u001b[1;32m---> 12\u001b[1;33m             \u001b[1;32mraise\u001b[0m \u001b[0mTypeError\u001b[0m\u001b[1;33m(\u001b[0m\u001b[1;34m'Must be a string.'\u001b[0m\u001b[1;33m)\u001b[0m\u001b[1;33m\u001b[0m\u001b[0m\n\u001b[0m\u001b[0;32m     13\u001b[0m         \u001b[0mself\u001b[0m\u001b[1;33m.\u001b[0m\u001b[0m__name\u001b[0m \u001b[1;33m=\u001b[0m \u001b[0mvalue\u001b[0m\u001b[1;33m\u001b[0m\u001b[0m\n\u001b[0;32m     14\u001b[0m \u001b[1;33m\u001b[0m\u001b[0m\n",
      "\u001b[1;31mTypeError\u001b[0m: Must be a string."
     ]
    }
   ],
   "source": [
    "class Foo(object):\n",
    "    def __init__(self, name):\n",
    "        self.__name = name\n",
    "\n",
    "    @property\n",
    "    def name(self):\n",
    "        return self.__name\n",
    "\n",
    "    @name.setter\n",
    "    def name(self, value):\n",
    "        if not isinstance(value, str):\n",
    "            raise TypeError('Must be a string.')\n",
    "        self.__name = value\n",
    "\n",
    "    @name.deleter\n",
    "    def name(self):\n",
    "        raise TypeError('You are not allowed to delete name property.')\n",
    "\n",
    "f = Foo(\"Guido\")\n",
    "print(f.name)\n",
    "f.name = \"Monty\"\n",
    "f.name = 42\n",
    "del f.name"
   ]
  },
  {
   "cell_type": "markdown",
   "metadata": {},
   "source": [
    "## Descriptors\n",
    "\n",
    "With properties, access to an attribute is controlled by a series of user-defined get, set, and delete functions.This sort of attribute control can be further generalized through the use of a descriptor object.A descriptor is simply an object that represents the value of an attribute."
   ]
  },
  {
   "cell_type": "code",
   "execution_count": 9,
   "metadata": {
    "collapsed": false
   },
   "outputs": [
    {
     "ename": "AttributeError",
     "evalue": "Cannot delete attribute",
     "output_type": "error",
     "traceback": [
      "\u001b[1;31m---------------------------------------------------------------------------\u001b[0m",
      "\u001b[1;31mAttributeError\u001b[0m                            Traceback (most recent call last)",
      "\u001b[1;32m<ipython-input-9-29a58c02ffcf>\u001b[0m in \u001b[0;36m<module>\u001b[1;34m()\u001b[0m\n\u001b[0;32m     27\u001b[0m \u001b[0ma\u001b[0m \u001b[1;33m=\u001b[0m \u001b[0mf\u001b[0m\u001b[1;33m.\u001b[0m\u001b[0mname\u001b[0m\u001b[1;33m\u001b[0m\u001b[0m\n\u001b[0;32m     28\u001b[0m \u001b[0mf\u001b[0m\u001b[1;33m.\u001b[0m\u001b[0mname\u001b[0m \u001b[1;33m=\u001b[0m \u001b[1;34m\"Guido\"\u001b[0m\u001b[1;33m\u001b[0m\u001b[0m\n\u001b[1;32m---> 29\u001b[1;33m \u001b[1;32mdel\u001b[0m \u001b[0mf\u001b[0m\u001b[1;33m.\u001b[0m\u001b[0mname\u001b[0m\u001b[1;33m\u001b[0m\u001b[0m\n\u001b[0m",
      "\u001b[1;32m<ipython-input-9-29a58c02ffcf>\u001b[0m in \u001b[0;36m__delete__\u001b[1;34m(self, instance)\u001b[0m\n\u001b[0;32m     16\u001b[0m \u001b[1;33m\u001b[0m\u001b[0m\n\u001b[0;32m     17\u001b[0m     \u001b[1;32mdef\u001b[0m \u001b[0m__delete__\u001b[0m\u001b[1;33m(\u001b[0m\u001b[0mself\u001b[0m\u001b[1;33m,\u001b[0m \u001b[0minstance\u001b[0m\u001b[1;33m)\u001b[0m\u001b[1;33m:\u001b[0m\u001b[1;33m\u001b[0m\u001b[0m\n\u001b[1;32m---> 18\u001b[1;33m         \u001b[1;32mraise\u001b[0m \u001b[0mAttributeError\u001b[0m\u001b[1;33m(\u001b[0m\u001b[1;34m'Cannot delete attribute'\u001b[0m\u001b[1;33m)\u001b[0m\u001b[1;33m\u001b[0m\u001b[0m\n\u001b[0m\u001b[0;32m     19\u001b[0m \u001b[1;33m\u001b[0m\u001b[0m\n\u001b[0;32m     20\u001b[0m \u001b[1;33m\u001b[0m\u001b[0m\n",
      "\u001b[1;31mAttributeError\u001b[0m: Cannot delete attribute"
     ]
    }
   ],
   "source": [
    "class TypeProperty(object):\n",
    "\n",
    "    def __init__(self, name, type, default=None):\n",
    "        self.name = '_' + name\n",
    "        self.type = type\n",
    "\n",
    "        self.default = default if default else type()\n",
    "\n",
    "    def __get__(self, instance, owner):\n",
    "        return getattr(instance, self.name, self.default)\n",
    "\n",
    "    def __set__(self, instance, value):\n",
    "        if not isinstance(value, self.type):\n",
    "            raise TypeError('Must be a %s' % self.type)\n",
    "        setattr(instance, self.name, value)\n",
    "\n",
    "    def __delete__(self, instance):\n",
    "        raise AttributeError('Cannot delete attribute')\n",
    "\n",
    "\n",
    "class Foo(object):\n",
    "    name = TypeProperty(\"name\", str)\n",
    "    num = TypeProperty(\"num\", int, 42)\n",
    "\n",
    "\n",
    "f = Foo()\n",
    "a = f.name\n",
    "f.name = \"Guido\"\n",
    "del f.name"
   ]
  },
  {
   "cell_type": "markdown",
   "metadata": {},
   "source": [
    "## Data Encapsulation and Private Attributes\n",
    "\n",
    "By default, all attributes and methods of a class are “public.”This means that they are all accessible without any restrictions. It also implies that everything defined in a base class is inherited and accessible within a derived class.\n",
    "\n",
    "To fix this problem, all names in a class that start with a double underscore, such as `__Foo`, are automatically mangled to form a new name of the form `_Classname__Foo`."
   ]
  },
  {
   "cell_type": "code",
   "execution_count": 10,
   "metadata": {
    "collapsed": false
   },
   "outputs": [
    {
     "name": "stdout",
     "output_type": "stream",
     "text": [
      "3\n"
     ]
    },
    {
     "ename": "AttributeError",
     "evalue": "'A' object has no attribute '__X'",
     "output_type": "error",
     "traceback": [
      "\u001b[1;31m---------------------------------------------------------------------------\u001b[0m",
      "\u001b[1;31mAttributeError\u001b[0m                            Traceback (most recent call last)",
      "\u001b[1;32m<ipython-input-10-a851982ded21>\u001b[0m in \u001b[0;36m<module>\u001b[1;34m()\u001b[0m\n\u001b[0;32m     20\u001b[0m \u001b[0ma\u001b[0m \u001b[1;33m=\u001b[0m \u001b[0mA\u001b[0m\u001b[1;33m(\u001b[0m\u001b[1;33m)\u001b[0m\u001b[1;33m\u001b[0m\u001b[0m\n\u001b[0;32m     21\u001b[0m \u001b[1;32mprint\u001b[0m\u001b[1;33m(\u001b[0m\u001b[0ma\u001b[0m\u001b[1;33m.\u001b[0m\u001b[0m_A__X\u001b[0m\u001b[1;33m)\u001b[0m\u001b[1;33m\u001b[0m\u001b[0m\n\u001b[1;32m---> 22\u001b[1;33m \u001b[1;32mprint\u001b[0m\u001b[1;33m(\u001b[0m\u001b[0ma\u001b[0m\u001b[1;33m.\u001b[0m\u001b[0m__X\u001b[0m\u001b[1;33m)\u001b[0m\u001b[1;33m\u001b[0m\u001b[0m\n\u001b[0m",
      "\u001b[1;31mAttributeError\u001b[0m: 'A' object has no attribute '__X'"
     ]
    }
   ],
   "source": [
    "class A(object):\n",
    "    def __init__(self):\n",
    "        self.__X = 3\n",
    "\n",
    "    def __spam(self):\n",
    "        pass\n",
    "\n",
    "    def bar(self):\n",
    "        self.__spam()\n",
    "\n",
    "\n",
    "class B(A):\n",
    "    def __init__(self):\n",
    "        A.__init__(self)\n",
    "        self.__X = 37\n",
    "\n",
    "    def __spam(self):\n",
    "        pass\n",
    "\n",
    "a = A()\n",
    "print(a._A__X)\n",
    "print(a.__X)"
   ]
  },
  {
   "cell_type": "markdown",
   "metadata": {},
   "source": [
    "It is recommended that private attributes be used when defining mutable attributes via properties. By doing so, you will encourage users to use the property name rather than accessing the underlying instance data directly (which is probably not what you intended if you wrapped it with a property to begin with).\n",
    "\n",
    "Finally, don’t confuse the naming of private class attributes with the naming of “private” definitions in a module.A common mistake is to define a class where a single leading underscore is used on attribute names in an effort to hide their values (e.g., `_name`). In modules, this naming convention prevents names from being exported by the `from module import *` statement. However, in classes, this naming convention does not hide the attribute nor does it prevent name clashes that arise if someone inherits from the class and defines a new attribute or method with the same name.\n",
    "\n",
    "## Object Memory Management\n",
    "\n",
    "When a class is defined, the resulting class is a factory for creating new instances.\n",
    "\n",
    "The creation of an instance is carried out in two steps using the special method `__new__()`, which creates a new instance, and `__init__()`, which initializes it.\n",
    "\n",
    "If you see `__new__()` defined in a class, it usually means the class is doing one of two things. First, the class might be inheriting from a base class whose instances are immutable.This is common if defining objects that inherit from an immutable built-in type such as an integer, string, or tuple. The other major use of `__new__()` is when defining metaclasses.\n",
    "\n",
    "Once created, instances are managed by reference counting. If the reference count reaches zero, the instance is immediately destroyed.When the instance is about to be destroyed, the interpreter first looks for a `__del__()` method associated with the object and calls it. (A better approach may be to define a method such as `close()` that a program can use to explicitly perform a shutdown.)\n",
    "\n"
   ]
  }
 ],
 "metadata": {
  "kernelspec": {
   "display_name": "Python 2",
   "language": "python",
   "name": "python2"
  },
  "language_info": {
   "codemirror_mode": {
    "name": "ipython",
    "version": 2
   },
   "file_extension": ".py",
   "mimetype": "text/x-python",
   "name": "python",
   "nbconvert_exporter": "python",
   "pygments_lexer": "ipython2",
   "version": "2.7.8"
  }
 },
 "nbformat": 4,
 "nbformat_minor": 0
}
