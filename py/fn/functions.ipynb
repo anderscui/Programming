{
 "cells": [
  {
   "cell_type": "markdown",
   "metadata": {},
   "source": [
    "# Functions and Functional Programming\n",
    "\n",
    "Substantial programs are broken up into functions for better modularity and ease of mantenance. Python makes it easy to define functions but also incorporates a surprising numbers of features from **funtional progamming**.\n",
    "\n",
    "This part describes functions, scoping rules, closures, decorators, generators, coroutines, and other FP features.\n",
    "\n",
    "## Functions\n",
    "\n",
    "Functions are defined with the `def` statement: "
   ]
  },
  {
   "cell_type": "code",
   "execution_count": 2,
   "metadata": {
    "collapsed": false
   },
   "outputs": [
    {
     "name": "stdout",
     "output_type": "stream",
     "text": [
      "3\n",
      "['funny', ' function', ' functional']\n",
      "['', 'ny, ', 'ction, ', 'ctional']\n"
     ]
    }
   ],
   "source": [
    "def add(a, b):\n",
    "    return a + b\n",
    "\n",
    "# def with default parameter\n",
    "def split(line, delimiter=','):\n",
    "    return line.split(delimiter)\n",
    "\n",
    "print add(1, 2)\n",
    "print split('funny, function, functional')\n",
    "print split('funny, function, functional', 'fun')"
   ]
  },
  {
   "cell_type": "code",
   "execution_count": 3,
   "metadata": {
    "collapsed": false
   },
   "outputs": [
    {
     "name": "stdout",
     "output_type": "stream",
     "text": [
      "10\n"
     ]
    }
   ],
   "source": [
    "# remember values that set\n",
    "a = 10\n",
    "def foo(x=a):\n",
    "    return x\n",
    "\n",
    "a = 5\n",
    "print foo()"
   ]
  },
  {
   "cell_type": "markdown",
   "metadata": {},
   "source": [
    "In addition, the use of mutable objects as default values may lead to unintended behavior, so `None` is a better choice:"
   ]
  },
  {
   "cell_type": "code",
   "execution_count": 4,
   "metadata": {
    "collapsed": true
   },
   "outputs": [],
   "source": [
    "def foo(x, items=None):\n",
    "    if items is None:\n",
    "        items = []\n",
    "    items.append(x)\n",
    "    return items"
   ]
  },
  {
   "cell_type": "markdown",
   "metadata": {},
   "source": [
    "A function can accept a variable number of parameters"
   ]
  },
  {
   "cell_type": "code",
   "execution_count": 5,
   "metadata": {
    "collapsed": false
   },
   "outputs": [
    {
     "name": "stdout",
     "output_type": "stream",
     "text": [
      "3\n",
      "6\n",
      "15\n"
     ]
    }
   ],
   "source": [
    "def add(a, b, *more):\n",
    "    result = a + b\n",
    "    for num in more:\n",
    "        result += num\n",
    "\n",
    "    return result\n",
    "\n",
    "print(add(1, 2))\n",
    "print(add(1, 2, 3))\n",
    "print(add(1, 2, 3, 4, 5))"
   ]
  },
  {
   "cell_type": "code",
   "execution_count": 8,
   "metadata": {
    "collapsed": false
   },
   "outputs": [
    {
     "name": "stdout",
     "output_type": "stream",
     "text": [
      "anders, comes from shandong, has interests: py, ml\n",
      "anders, comes from shandong, has interests: py, ml\n"
     ]
    }
   ],
   "source": [
    "# keyword params\n",
    "def desc(name, hometown, interests):\n",
    "    print '%s, comes from %s, has interests: %s' % (name, hometown, interests)\n",
    "    \n",
    "desc('anders', 'shandong', 'py, ml')\n",
    "desc(hometown='shandong', interests='py, ml', name='anders')"
   ]
  },
  {
   "cell_type": "code",
   "execution_count": 9,
   "metadata": {
    "collapsed": false
   },
   "outputs": [
    {
     "ename": "TypeError",
     "evalue": "Unsupported config options",
     "output_type": "error",
     "traceback": [
      "\u001b[0;31m---------------------------------------------------------------------------\u001b[0m",
      "\u001b[0;31mTypeError\u001b[0m                                 Traceback (most recent call last)",
      "\u001b[0;32m<ipython-input-9-3407006aeb58>\u001b[0m in \u001b[0;36m<module>\u001b[0;34m()\u001b[0m\n\u001b[1;32m     11\u001b[0m \u001b[0mitems\u001b[0m \u001b[0;34m=\u001b[0m \u001b[0;34m[\u001b[0m\u001b[0;34m]\u001b[0m\u001b[0;34m\u001b[0m\u001b[0m\n\u001b[1;32m     12\u001b[0m make_table(items, fgcolor='black', bgcolor='white', border=1,\n\u001b[0;32m---> 13\u001b[0;31m           cellpadding=10, width=200)\n\u001b[0m\u001b[1;32m     14\u001b[0m \u001b[0;34m\u001b[0m\u001b[0m\n",
      "\u001b[0;32m<ipython-input-9-3407006aeb58>\u001b[0m in \u001b[0;36mmake_table\u001b[0;34m(data, **parms)\u001b[0m\n\u001b[1;32m      7\u001b[0m     \u001b[0;31m# No more options\u001b[0m\u001b[0;34m\u001b[0m\u001b[0;34m\u001b[0m\u001b[0m\n\u001b[1;32m      8\u001b[0m     \u001b[0;32mif\u001b[0m \u001b[0mparms\u001b[0m\u001b[0;34m:\u001b[0m\u001b[0;34m\u001b[0m\u001b[0m\n\u001b[0;32m----> 9\u001b[0;31m         \u001b[0;32mraise\u001b[0m \u001b[0mTypeError\u001b[0m\u001b[0;34m(\u001b[0m\u001b[0;34m'Unsupported config options'\u001b[0m \u001b[0;34m%\u001b[0m \u001b[0mlist\u001b[0m\u001b[0;34m(\u001b[0m\u001b[0mparms\u001b[0m\u001b[0;34m)\u001b[0m\u001b[0;34m)\u001b[0m\u001b[0;34m\u001b[0m\u001b[0m\n\u001b[0m\u001b[1;32m     10\u001b[0m \u001b[0;34m\u001b[0m\u001b[0m\n\u001b[1;32m     11\u001b[0m \u001b[0mitems\u001b[0m \u001b[0;34m=\u001b[0m \u001b[0;34m[\u001b[0m\u001b[0;34m]\u001b[0m\u001b[0;34m\u001b[0m\u001b[0m\n",
      "\u001b[0;31mTypeError\u001b[0m: Unsupported config options"
     ]
    }
   ],
   "source": [
    "def make_table(data, **parms):\n",
    "    # get configs\n",
    "    fgcolor = parms.pop('fgcolor', 'black')\n",
    "    bgcolor = parms.pop('bgcolor', 'white')\n",
    "    # ...\n",
    "    \n",
    "    # No more options\n",
    "    if parms:\n",
    "        raise TypeError('Unsupported config options' % list(parms))\n",
    "        \n",
    "items = []\n",
    "make_table(items, fgcolor='black', bgcolor='white', border=1,\n",
    "          cellpadding=10, width=200)\n",
    "\n"
   ]
  },
  {
   "cell_type": "markdown",
   "metadata": {},
   "source": [
    "## Parameter Passing and Return Values\n",
    "\n",
    "Functions that mutate their input values or change the state of other parts of the program behind the scenes ar said to have side effects. Generally, this is best avoided.\n",
    "\n",
    "## Scoping Rules\n",
    "Each tiem a function executes, a new local namespace is created. The local namespace contains names of parameters and local variables. **The global namespace for a function is always the module in which the function was defined**. "
   ]
  },
  {
   "cell_type": "code",
   "execution_count": 10,
   "metadata": {
    "collapsed": false
   },
   "outputs": [
    {
     "name": "stdout",
     "output_type": "stream",
     "text": [
      "13\n"
     ]
    }
   ],
   "source": [
    "a = 42\n",
    "def foo():\n",
    "    global a\n",
    "    a = 13\n",
    "    \n",
    "foo()\n",
    "print a"
   ]
  },
  {
   "cell_type": "markdown",
   "metadata": {},
   "source": [
    "Python supports nested functions definitions."
   ]
  },
  {
   "cell_type": "code",
   "execution_count": 15,
   "metadata": {
    "collapsed": false
   },
   "outputs": [
    {
     "name": "stdout",
     "output_type": "stream",
     "text": [
      "T-minus 5\n"
     ]
    },
    {
     "ename": "UnboundLocalError",
     "evalue": "local variable 'n' referenced before assignment",
     "output_type": "error",
     "traceback": [
      "\u001b[0;31m---------------------------------------------------------------------------\u001b[0m",
      "\u001b[0;31mUnboundLocalError\u001b[0m                         Traceback (most recent call last)",
      "\u001b[0;32m<ipython-input-15-bf22646ff599>\u001b[0m in \u001b[0;36m<module>\u001b[0;34m()\u001b[0m\n\u001b[1;32m     12\u001b[0m         \u001b[0mdecrement\u001b[0m\u001b[0;34m(\u001b[0m\u001b[0;34m)\u001b[0m\u001b[0;34m\u001b[0m\u001b[0m\n\u001b[1;32m     13\u001b[0m \u001b[0;34m\u001b[0m\u001b[0m\n\u001b[0;32m---> 14\u001b[0;31m \u001b[0mcountdown\u001b[0m\u001b[0;34m(\u001b[0m\u001b[0;36m5\u001b[0m\u001b[0;34m)\u001b[0m\u001b[0;34m\u001b[0m\u001b[0m\n\u001b[0m",
      "\u001b[0;32m<ipython-input-15-bf22646ff599>\u001b[0m in \u001b[0;36mcountdown\u001b[0;34m(start)\u001b[0m\n\u001b[1;32m     10\u001b[0m     \u001b[0;32mwhile\u001b[0m \u001b[0mn\u001b[0m \u001b[0;34m>\u001b[0m \u001b[0;36m0\u001b[0m\u001b[0;34m:\u001b[0m\u001b[0;34m\u001b[0m\u001b[0m\n\u001b[1;32m     11\u001b[0m         \u001b[0mdisplay\u001b[0m\u001b[0;34m(\u001b[0m\u001b[0;34m)\u001b[0m\u001b[0;34m\u001b[0m\u001b[0m\n\u001b[0;32m---> 12\u001b[0;31m         \u001b[0mdecrement\u001b[0m\u001b[0;34m(\u001b[0m\u001b[0;34m)\u001b[0m\u001b[0;34m\u001b[0m\u001b[0m\n\u001b[0m\u001b[1;32m     13\u001b[0m \u001b[0;34m\u001b[0m\u001b[0m\n\u001b[1;32m     14\u001b[0m \u001b[0mcountdown\u001b[0m\u001b[0;34m(\u001b[0m\u001b[0;36m5\u001b[0m\u001b[0;34m)\u001b[0m\u001b[0;34m\u001b[0m\u001b[0m\n",
      "\u001b[0;32m<ipython-input-15-bf22646ff599>\u001b[0m in \u001b[0;36mdecrement\u001b[0;34m()\u001b[0m\n\u001b[1;32m      6\u001b[0m \u001b[0;34m\u001b[0m\u001b[0m\n\u001b[1;32m      7\u001b[0m     \u001b[0;32mdef\u001b[0m \u001b[0mdecrement\u001b[0m\u001b[0;34m(\u001b[0m\u001b[0;34m)\u001b[0m\u001b[0;34m:\u001b[0m\u001b[0;34m\u001b[0m\u001b[0m\n\u001b[0;32m----> 8\u001b[0;31m         \u001b[0mn\u001b[0m \u001b[0;34m-=\u001b[0m \u001b[0;36m1\u001b[0m\u001b[0;34m\u001b[0m\u001b[0m\n\u001b[0m\u001b[1;32m      9\u001b[0m \u001b[0;34m\u001b[0m\u001b[0m\n\u001b[1;32m     10\u001b[0m     \u001b[0;32mwhile\u001b[0m \u001b[0mn\u001b[0m \u001b[0;34m>\u001b[0m \u001b[0;36m0\u001b[0m\u001b[0;34m:\u001b[0m\u001b[0;34m\u001b[0m\u001b[0m\n",
      "\u001b[0;31mUnboundLocalError\u001b[0m: local variable 'n' referenced before assignment"
     ]
    }
   ],
   "source": [
    "def countdown(start):\n",
    "    n = start\n",
    "\n",
    "    def display():\n",
    "        print('T-minus %d' % n)\n",
    "\n",
    "    def decrement():\n",
    "        n -= 1\n",
    "\n",
    "    while n > 0:\n",
    "        display()\n",
    "        decrement()\n",
    "        \n",
    "countdown(5)"
   ]
  },
  {
   "cell_type": "markdown",
   "metadata": {},
   "source": [
    "Variables in nested functions are bound using *lexical scoping*. Names are resolved by first checking the **local scope** and then all **encoding scopes of outer funciton definitions** from the inner most scope to the outermost scope.\n",
    "\n",
    "In Python 2, you can work around this by placing values you want to change in a list or dict. In Python 3, you can declare a variable as `nonlocal`."
   ]
  },
  {
   "cell_type": "markdown",
   "metadata": {},
   "source": [
    "## Functions as Objects and Closures\n",
    "\n",
    "Functions are first-class objects in Python. This means that they can be passed as args, placed in data structures, and returned by a function as a result."
   ]
  },
  {
   "cell_type": "code",
   "execution_count": 16,
   "metadata": {
    "collapsed": false
   },
   "outputs": [
    {
     "data": {
      "text/plain": [
       "'Hello World'"
      ]
     },
     "execution_count": 16,
     "metadata": {},
     "output_type": "execute_result"
    }
   ],
   "source": [
    "def callf(func):\n",
    "    return func()\n",
    "\n",
    "def hello():\n",
    "    return 'Hello World'\n",
    "\n",
    "callf(hello)"
   ]
  },
  {
   "cell_type": "markdown",
   "metadata": {},
   "source": [
    "When a function is handled as data, it implicitly carries info related to the surrounding env where the funcition was **defined** (instead of **called**). This affects how free variables in the function are bound.\n",
    "\n",
    "When the statements that make up a function are packaged together with env in which the execute, the resulting object is known as *closure*.\n",
    "\n",
    "All functions have a `__globals__` attribute that points to the global namespace in which the function was defined."
   ]
  },
  {
   "cell_type": "code",
   "execution_count": 1,
   "metadata": {
    "collapsed": false
   },
   "outputs": [
    {
     "data": {
      "text/plain": [
       "{'In': ['',\n",
       "  u\"x = 42\\ndef hello():\\n    return 'hello %d' % x\\n\\nhello.__globals__\"],\n",
       " 'Out': {},\n",
       " '_': '',\n",
       " '__': '',\n",
       " '___': '',\n",
       " '__builtin__': <module '__builtin__' (built-in)>,\n",
       " '__builtins__': <module '__builtin__' (built-in)>,\n",
       " '__doc__': 'Automatically created module for IPython interactive environment',\n",
       " '__name__': '__main__',\n",
       " '_dh': [u'C:\\\\Users\\\\anders.cui\\\\Desktop\\\\notebooks\\\\fn'],\n",
       " '_i': u'',\n",
       " '_i1': u\"x = 42\\ndef hello():\\n    return 'hello %d' % x\\n\\nhello.__globals__\",\n",
       " '_ih': ['',\n",
       "  u\"x = 42\\ndef hello():\\n    return 'hello %d' % x\\n\\nhello.__globals__\"],\n",
       " '_ii': u'',\n",
       " '_iii': u'',\n",
       " '_oh': {},\n",
       " '_sh': <module 'IPython.core.shadowns' from 'D:\\tools\\Continuum\\Anaconda2.1\\lib\\site-packages\\IPython\\core\\shadowns.pyc'>,\n",
       " 'exit': <IPython.core.autocall.ZMQExitAutocall at 0x3dbf160>,\n",
       " 'get_ipython': <bound method ZMQInteractiveShell.get_ipython of <IPython.kernel.zmq.zmqshell.ZMQInteractiveShell object at 0x0000000003DA22E8>>,\n",
       " 'hello': <function __main__.hello>,\n",
       " 'quit': <IPython.core.autocall.ZMQExitAutocall at 0x3dbf160>,\n",
       " 'x': 42}"
      ]
     },
     "execution_count": 1,
     "metadata": {},
     "output_type": "execute_result"
    }
   ],
   "source": [
    "x = 42\n",
    "def hello():\n",
    "    return 'hello %d' % x\n",
    "\n",
    "hello.__globals__"
   ]
  },
  {
   "cell_type": "markdown",
   "metadata": {},
   "source": [
    "Here you can see the `x` global variable is packaged together with function hello.\n",
    "\n",
    "Closures and nested functions are especially useful if you want to write code based on the concept of **lazy** or **delayed** evaluation."
   ]
  },
  {
   "cell_type": "code",
   "execution_count": 2,
   "metadata": {
    "collapsed": true
   },
   "outputs": [],
   "source": [
    "from urllib import urlopen\n",
    "def page(url):\n",
    "    def get():\n",
    "        return urlopen(url).read()\n",
    "    return get"
   ]
  },
  {
   "cell_type": "markdown",
   "metadata": {},
   "source": [
    "The `page()` function doesn't actually carry out any interesting computation. The computation carried out in `get()` is actually delayed until some later point in a program when `get()` is evaluated."
   ]
  },
  {
   "cell_type": "code",
   "execution_count": 8,
   "metadata": {
    "collapsed": false
   },
   "outputs": [
    {
     "data": {
      "text/plain": [
       "'<!doctype html>\\n<!--[if lt IE 7]>   <html class=\"no-js ie6 lt-ie7 lt-ie8 lt-ie9\">   <![endif]-->\\n<!-'"
      ]
     },
     "execution_count": 8,
     "metadata": {},
     "output_type": "execute_result"
    }
   ],
   "source": [
    "python = page('http://www.python.org')\n",
    "jython = page('http://www.jython.org')\n",
    "python\n",
    "jython\n",
    "\n",
    "# fetches\n",
    "pydata = python()\n",
    "pydata[:100]"
   ]
  },
  {
   "cell_type": "code",
   "execution_count": 10,
   "metadata": {
    "collapsed": false
   },
   "outputs": [
    {
     "data": {
      "text/plain": [
       "'http://www.python.org'"
      ]
     },
     "execution_count": 10,
     "metadata": {},
     "output_type": "execute_result"
    }
   ],
   "source": [
    "python.__closure__\n",
    "python.__closure__[0].cell_contents"
   ]
  },
  {
   "cell_type": "markdown",
   "metadata": {},
   "source": [
    "A closure can be a highly efficient way to preserve state across a series of function calls."
   ]
  },
  {
   "cell_type": "code",
   "execution_count": 13,
   "metadata": {
    "collapsed": false
   },
   "outputs": [
    {
     "name": "stdout",
     "output_type": "stream",
     "text": [
      "5\n",
      "4\n",
      "3\n",
      "2\n",
      "1\n",
      "0\n"
     ]
    }
   ],
   "source": [
    "def countdown(n):\n",
    "    local = [n]\n",
    "    def next():\n",
    "        # nonlocal n\n",
    "        r = local[0]\n",
    "        local[0] -= 1\n",
    "        return r\n",
    "    return next\n",
    "\n",
    "next = countdown(5)\n",
    "while True:\n",
    "    v = next()\n",
    "    print v\n",
    "    if not v: break"
   ]
  },
  {
   "cell_type": "markdown",
   "metadata": {},
   "source": [
    "Here in Python 3, it's clearer to use nonlocal keyword, but in Python 2, we have to use some other work arounds.\n",
    "\n",
    "A closure is used to store the internal counter value `n`. It looks very similar to an object that contains the state and method, but the closure version is much faster than the class version."
   ]
  },
  {
   "cell_type": "code",
   "execution_count": 14,
   "metadata": {
    "collapsed": false
   },
   "outputs": [
    {
     "name": "stdout",
     "output_type": "stream",
     "text": [
      "5\n",
      "4\n",
      "3\n",
      "2\n",
      "1\n",
      "0\n"
     ]
    }
   ],
   "source": [
    "class Countdown(object):\n",
    "    def __init__(self, n):\n",
    "        self.n = n\n",
    "\n",
    "    def next(self):\n",
    "        r = self.n\n",
    "        self.n -= 1\n",
    "        return r\n",
    "\n",
    "c = Countdown(5)\n",
    "while True:\n",
    "    v = c.next()\n",
    "    print v\n",
    "    if not v: break"
   ]
  },
  {
   "cell_type": "markdown",
   "metadata": {},
   "source": [
    "## Decorators\n",
    "A `decorator` is a function whose primary purpose is to wrap another function or class, this wrapping is to transparently alter or enhance the behavior of the object being wrapped.\n",
    "\n",
    "You can find the usage of decorators from the following example:"
   ]
  },
  {
   "cell_type": "code",
   "execution_count": 15,
   "metadata": {
    "collapsed": false
   },
   "outputs": [
    {
     "name": "stdout",
     "output_type": "stream",
     "text": [
      "calling square: (3,), {}\n",
      "square returned: 9\n"
     ]
    }
   ],
   "source": [
    "enable_tracing = True\n",
    "\n",
    "\n",
    "def trace(func):\n",
    "    if enable_tracing:\n",
    "        def callf(*args, **kwargs):\n",
    "            print('calling %s: %s, %s' % (func.__name__, args, kwargs))\n",
    "            r = func(*args, **kwargs)\n",
    "            print('%s returned: %s' % (func.__name__, r))\n",
    "\n",
    "            return r\n",
    "\n",
    "        return callf\n",
    "    else:\n",
    "        return func\n",
    "    \n",
    "@trace\n",
    "def square(x):\n",
    "    return x * x\n",
    "\n",
    "val = square(3)"
   ]
  },
  {
   "cell_type": "markdown",
   "metadata": {},
   "source": [
    "The effect of square is like: `square = trace(square)`. That is, the decorator replace the original function with a new one, but it's transparent, you don't even need to notice it.\n",
    "\n",
    "It's also interesting that if enable_tracing is set to False, nothing would happen.\n",
    "\n",
    "A decorator can also accept arguments.\n",
    "\n",
    "Decorators can also be applied to class definitions. For class decorators, you should always have the decorator function **return a class object**.\n",
    "\n",
    "## Generators and `yield`\n",
    "\n",
    "If a function uses the `yield` keyword, it defines an object known as a **generator**. A genreator is a function that produces a sequence of values for use in iteration.\n"
   ]
  },
  {
   "cell_type": "code",
   "execution_count": 18,
   "metadata": {
    "collapsed": false
   },
   "outputs": [
    {
     "name": "stdout",
     "output_type": "stream",
     "text": [
      "Counting down from 5\n",
      "5\n",
      "4\n",
      "3\n",
      "2\n",
      "1\n"
     ]
    }
   ],
   "source": [
    "def countdown(n):\n",
    "    print('Counting down from %d' % n)\n",
    "    while n > 0:\n",
    "        yield n\n",
    "        n -= 1\n",
    "    return\n",
    "\n",
    "c = countdown(5)\n",
    "print(c.next())\n",
    "for n in c:\n",
    "    print(n)\n",
    "\n",
    "# close it manually\n",
    "#c.close()\n",
    "#c.next()"
   ]
  },
  {
   "cell_type": "markdown",
   "metadata": {},
   "source": [
    "## Coroutines and `yield` Expressions\n",
    "\n",
    "Inside a function, the `yield` statement can also be used as an expression that appears on the right side of an assignment operator."
   ]
  },
  {
   "cell_type": "code",
   "execution_count": 19,
   "metadata": {
    "collapsed": false
   },
   "outputs": [
    {
     "name": "stdout",
     "output_type": "stream",
     "text": [
      "Ready to receive\n",
      "Got 1\n",
      "Got 2\n",
      "Got hello\n"
     ]
    }
   ],
   "source": [
    "def receiver():\n",
    "    print('Ready to receive')\n",
    "    while True:\n",
    "        n = (yield)\n",
    "        print('Got %s' % n)\n",
    "\n",
    "r = receiver()\n",
    "r.next()  # advance to first yield\n",
    "r.send(1)\n",
    "r.send(2)\n",
    "r.send('hello')"
   ]
  },
  {
   "cell_type": "markdown",
   "metadata": {},
   "source": [
    "The initial call to next() is necessary so that the coroutine executes statements leading to the first yield expression. At this point, the coroutine suspends, waiting for a value to be sent to it using the send() method.\n",
    "\n",
    "Upon recieving a value a coroutine executes statements until the next yield statement is encountered.\n",
    "\n",
    "A coroutine may simultaneously receive and emit return values using yield if values are supplied in the yield expression."
   ]
  },
  {
   "cell_type": "markdown",
   "metadata": {},
   "source": [
    "## List Comprehensions\n",
    "\n",
    "A common operation involving functions is that of applying a function to all of the items of a list, creating a new list with the results. Because this type of operation is so common, **list comprehension** is introduced."
   ]
  },
  {
   "cell_type": "code",
   "execution_count": 22,
   "metadata": {
    "collapsed": false
   },
   "outputs": [
    {
     "name": "stdout",
     "output_type": "stream",
     "text": [
      "[1, 4, 9, 16, 25]\n"
     ]
    }
   ],
   "source": [
    "nums = [1, 2, 3, 4, 5]\n",
    "squares = [n*n for n in nums]\n",
    "print(squares)"
   ]
  },
  {
   "cell_type": "code",
   "execution_count": 25,
   "metadata": {
    "collapsed": false
   },
   "outputs": [
    {
     "data": {
      "text/plain": [
       "[2.23606797749979, 5.0, 7.810249675906654]"
      ]
     },
     "execution_count": 25,
     "metadata": {},
     "output_type": "execute_result"
    }
   ],
   "source": [
    "import math\n",
    "vectors = [(1, 2), (3, 4), (5, 6)]\n",
    "dist = [math.sqrt(x*x + y*y) for x,y in vectors]\n",
    "dist"
   ]
  },
  {
   "cell_type": "code",
   "execution_count": 27,
   "metadata": {
    "collapsed": false
   },
   "outputs": [
    {
     "data": {
      "text/plain": [
       "[3, 5, 9]"
      ]
     },
     "execution_count": 27,
     "metadata": {},
     "output_type": "execute_result"
    }
   ],
   "source": [
    "# conditions\n",
    "a = [-1, 3, 0, 5, 9]\n",
    "[i for i in a if i > 0]"
   ]
  },
  {
   "cell_type": "markdown",
   "metadata": {},
   "source": [
    "## Generator Expressions\n",
    "A generator expression is an object that carries out the same computation as a list comprehension, but which iteratively produces the result.The syntax is the same as for list comprehensions except that you use parentheses instead of square brackets."
   ]
  },
  {
   "cell_type": "code",
   "execution_count": 28,
   "metadata": {
    "collapsed": false
   },
   "outputs": [
    {
     "name": "stdout",
     "output_type": "stream",
     "text": [
      "<generator object <genexpr> at 0x00000000040DE900>\n",
      "10\n",
      "20\n"
     ]
    }
   ],
   "source": [
    "a = [1, 2, 3, 4, 5]\n",
    "b = (i*10 for i in a)\n",
    "print(b)\n",
    "print(b.next())\n",
    "print(b.next())\n",
    "b.close()"
   ]
  },
  {
   "cell_type": "markdown",
   "metadata": {},
   "source": [
    "The diff between list and gneerator expressions is important, but subtle. With a list comprehension, Python creates a list that contains the resulting data. With a generator expression, Python creates a generator that merely knows **how to produce\n",
    "data on demand**. In certain applications, this can greatly improve performance and memory use.\n",
    "\n",
    "Unlike a list comprehension, a generator expression does not create an object that works like a sequence. It can’t be indexed, and none of the usual list operations will work (for example, append() ). However, a generator expression can be converted into a list using the built-in list() function."
   ]
  },
  {
   "cell_type": "markdown",
   "metadata": {},
   "source": [
    "## Declarative Programming\n",
    "\n",
    "List comprehensions and generator expressions are strongly tied to operations found in declarative languages. In fact, the origin of these features is loosely derived from ideas in mathematical set theory.\n",
    "\n",
    "The declarative programming style is somewhat tied to the kinds of operations a programmer might perform in a UNIX shell.\n",
    "\n",
    "The declarative style of list comprehensions and generator expressions can also be used to mimic the behavior of SQL select statements, commonly used when processing databases. In fact, if you are using a module related to database access, you can often use list comprehensions and database queries together all at once."
   ]
  },
  {
   "cell_type": "markdown",
   "metadata": {},
   "source": [
    "## The `lambda` Operator\n",
    "\n",
    "Anonymous functions in the form of an expression can be created using the lambda statement: `lambda args: expression`. `args` is a comma-separated list of arguments, and expression is an expression involving those arguments."
   ]
  },
  {
   "cell_type": "code",
   "execution_count": 29,
   "metadata": {
    "collapsed": false
   },
   "outputs": [
    {
     "name": "stdout",
     "output_type": "stream",
     "text": [
      "<function <lambda> at 0x00000000041133C8>\n"
     ]
    },
    {
     "data": {
      "text/plain": [
       "3"
      ]
     },
     "execution_count": 29,
     "metadata": {},
     "output_type": "execute_result"
    }
   ],
   "source": [
    "add = lambda x, y: x+y\n",
    "print add\n",
    "add(1, 2)"
   ]
  },
  {
   "cell_type": "markdown",
   "metadata": {},
   "source": [
    "The code defined with lambda must be a valid expression. Multiple statements and other non-expression statements, such as for and while, cannot appear in a lambda statement. lambda expressions follow the same scoping rules as functions.\n",
    "\n",
    "The primary use of lambda is in specifying short callback functions:"
   ]
  },
  {
   "cell_type": "code",
   "execution_count": 30,
   "metadata": {
    "collapsed": false
   },
   "outputs": [
    {
     "data": {
      "text/plain": [
       "['chamberlain', 'bill', 'steve']"
      ]
     },
     "execution_count": 30,
     "metadata": {},
     "output_type": "execute_result"
    }
   ],
   "source": [
    "names = ['steve', 'bill', 'chamberlain']\n",
    "names.sort(key=lambda n: n[1])\n",
    "names"
   ]
  },
  {
   "cell_type": "markdown",
   "metadata": {},
   "source": [
    "## Recursion\n",
    "\n",
    "Recursive functions are easily defined. For example:"
   ]
  },
  {
   "cell_type": "code",
   "execution_count": 31,
   "metadata": {
    "collapsed": true
   },
   "outputs": [],
   "source": [
    "def factorial(n):\n",
    "    if n <= 1:\n",
    "        return 1\n",
    "    else:\n",
    "        return n * factorial(n - 1)"
   ]
  },
  {
   "cell_type": "markdown",
   "metadata": {},
   "source": [
    "However, be aware that there is a limit on the depth of recursive function calls. The function `sys.getrecursionlimit()` returns the current maximum recursion depth, and the function `sys.setrecursionlimit()` can be used to change the value. The\n",
    "default value is 1000. Although it is possible to increase the value, programs are still limited by the stack size limits enforced by the host operating system. When the recursion depth is exceeded, a `RuntimeError` exception is raised. Python **does not perform tailrecursion optimization** that you often find in functional languages such as Scheme."
   ]
  },
  {
   "cell_type": "markdown",
   "metadata": {},
   "source": [
    "If the purpose of the decorator was related to some kind of system management such as synchronization or locking, recursion is something probably best avoided."
   ]
  },
  {
   "cell_type": "markdown",
   "metadata": {},
   "source": [
    "## Documentation Strings\n",
    "\n",
    "It is common practice for the first statement of function to be a documentation string describing its usage."
   ]
  },
  {
   "cell_type": "code",
   "execution_count": 32,
   "metadata": {
    "collapsed": false
   },
   "outputs": [
    {
     "name": "stdout",
     "output_type": "stream",
     "text": [
      "Computes n factorial. e.g.:\n",
      "\n",
      "    >>> factorial(5)\n",
      "    120\n",
      "    >>>\n",
      "    \n"
     ]
    }
   ],
   "source": [
    "def factorial(n):\n",
    "    \"\"\"Computes n factorial. e.g.:\n",
    "\n",
    "    >>> factorial(5)\n",
    "    120\n",
    "    >>>\n",
    "    \"\"\"\n",
    "    if n <= 1:\n",
    "        return 1\n",
    "    else:\n",
    "        return n * factorial(n - 1)\n",
    "\n",
    "print(factorial.__doc__)"
   ]
  },
  {
   "cell_type": "markdown",
   "metadata": {},
   "source": [
    "For decorators, the `functools` module provides a function `wraps` that can automatically copy these attributes. The `@wraps(func)` decorator, defined in `functools`, propagates attributes from func to the wrapper function that is being defined."
   ]
  },
  {
   "cell_type": "markdown",
   "metadata": {},
   "source": [
    "## Function Attributes\n",
    "\n",
    "Functions can have arbitrary attributes attached to them."
   ]
  },
  {
   "cell_type": "code",
   "execution_count": 34,
   "metadata": {
    "collapsed": false
   },
   "outputs": [
    {
     "name": "stdout",
     "output_type": "stream",
     "text": [
      "{'secure': 1, 'private': 1}\n"
     ]
    }
   ],
   "source": [
    "def foo():\n",
    "    print 'foo'\n",
    "\n",
    "foo.secure = 1\n",
    "foo.private = 1\n",
    "\n",
    "print foo.__dict__"
   ]
  },
  {
   "cell_type": "markdown",
   "metadata": {},
   "source": [
    "The primary use of function attributes is in highly specialized applications such as parser generators and application frameworks that would like to attach additional information to function objects."
   ]
  },
  {
   "cell_type": "markdown",
   "metadata": {},
   "source": [
    "## eval(), exec(), and compile()\n",
    "\n",
    "The `eval(str [, globals [, locals]])` function executes an expression string and returns the result."
   ]
  },
  {
   "cell_type": "code",
   "execution_count": 35,
   "metadata": {
    "collapsed": false
   },
   "outputs": [
    {
     "data": {
      "text/plain": [
       "3.957892280477045"
      ]
     },
     "execution_count": 35,
     "metadata": {},
     "output_type": "execute_result"
    }
   ],
   "source": [
    "import math\n",
    "x = 1\n",
    "eval('3 * math.sin(x+1) + 1.23')"
   ]
  },
  {
   "cell_type": "markdown",
   "metadata": {},
   "source": [
    "`exec()` is similar.\n",
    "\n",
    "The `compile(str, filename, kind)` function compiles a string into bytecode in which str is a string containing the code to be compiled and filename is the file in which the string is defined (for use in traceback generation).The kind argument specifies the type of code being compiled—'single' for a single statement, 'exec' for a set of statements, or 'eval' for an expression.The code object returned by the compile() function can also be passed to the eval() function and exec() statement."
   ]
  }
 ],
 "metadata": {
  "kernelspec": {
   "display_name": "Python 2",
   "language": "python",
   "name": "python2"
  },
  "language_info": {
   "codemirror_mode": {
    "name": "ipython",
    "version": 2
   },
   "file_extension": ".py",
   "mimetype": "text/x-python",
   "name": "python",
   "nbconvert_exporter": "python",
   "pygments_lexer": "ipython2",
   "version": "2.7.8"
  }
 },
 "nbformat": 4,
 "nbformat_minor": 0
}
