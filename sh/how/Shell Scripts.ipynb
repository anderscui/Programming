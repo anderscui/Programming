{
 "cells": [
  {
   "cell_type": "markdown",
   "metadata": {},
   "source": [
    "# Shell Scripts\n",
    "\n",
    "## 2. Quoting and Literals\n",
    "\n",
    "If you want to output \"$100\":\n",
    "\n",
    "```shell\n",
    "echo $100\n",
    "echo \"$100\"\n",
    "echo '$100'\n",
    "```\n",
    "\n",
    "The first two don't work. Whenever the shell runs a cmd:\n",
    "\n",
    "1. Before running the cmd, the shell looks for var, globs, and other substitutions and performs the substitutions if they appear.\n",
    "2. **The shell passes the substitution result to the cmd**.\n",
    "\n",
    "In some cases, ```grep r.*t /etc/passwd``` expands to `grep r.input /etc/passwd`. So,\n",
    "\n",
    "1. Use ' to create a literally real **literal**.\n",
    "2. \" works just like ', except that the shell expands any vars that appear within double quotes.\n",
    "\n",
    "## 3. Special Vars\n",
    "\n",
    "### 3.1 Individual Args: `$1`, `$2`, ...\n",
    "\n",
    "### 3.2 Number of Args: `$#`\n",
    "\n",
    "### 3.3 All Args: `$@`\n",
    "\n",
    "### 3.4 Script Name: `$0`\n",
    "\n",
    "### 3.5 Process ID: `$$`\n",
    "\n",
    "### 3.6 Exit Code: `$?`"
   ]
  },
  {
   "cell_type": "markdown",
   "metadata": {},
   "source": [
    "## 4. Exit Code\n",
    "\n",
    "When a Unix program finishes, it leaves an exit code for the parent process that started the program. If you intend to use the exit code of a cmd, you must use or store the code immediately."
   ]
  }
 ],
 "metadata": {
  "anaconda-cloud": {},
  "kernelspec": {
   "display_name": "Python [conda root]",
   "language": "python",
   "name": "conda-root-py"
  },
  "language_info": {
   "codemirror_mode": {
    "name": "ipython",
    "version": 3
   },
   "file_extension": ".py",
   "mimetype": "text/x-python",
   "name": "python",
   "nbconvert_exporter": "python",
   "pygments_lexer": "ipython3",
   "version": "3.5.2"
  }
 },
 "nbformat": 4,
 "nbformat_minor": 1
}
