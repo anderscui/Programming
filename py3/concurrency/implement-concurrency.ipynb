{
 "cells": [
  {
   "cell_type": "markdown",
   "metadata": {},
   "source": [
    "# Implementing Concurrency\n",
    "\n",
    "## Asynchronous Programming\n",
    "\n",
    "### 并发（Concurrency）\n",
    "\n",
    "并发是实现能够同时处理多个请求的系统的一种方式。基本思路是，在等待一个资源时，着手处理别的请求，而不是干等着。以下是同步代码："
   ]
  },
  {
   "cell_type": "code",
   "execution_count": 1,
   "metadata": {},
   "outputs": [
    {
     "name": "stdout",
     "output_type": "stream",
     "text": [
      "result is 4\n",
      "result is 9\n",
      "result is 16\n"
     ]
    }
   ],
   "source": [
    "import time\n",
    "\n",
    "\n",
    "def network_request(n):\n",
    "    time.sleep(1.0)\n",
    "    return {'success': True, 'result': n ** 2}\n",
    "\n",
    "\n",
    "def fetch_square(n):\n",
    "    resp = network_request(n)\n",
    "    if resp['success']:\n",
    "        print(f'result is {resp[\"result\"]}')\n",
    "\n",
    "\n",
    "fetch_square(2)\n",
    "fetch_square(3)\n",
    "fetch_square(4)"
   ]
  },
  {
   "cell_type": "markdown",
   "metadata": {},
   "source": [
    "`network_request` 模拟远程IO访问，三次 `fetch_square` 请求逐一完成，是为同步。\n",
    "\n",
    "### Callbacks\n",
    "\n",
    "同步方式下，执行代码被”阻塞“（block），直到请求完成。要是代码可继续执行而非被阻塞，可以考虑使用`callback`。"
   ]
  },
  {
   "cell_type": "code",
   "execution_count": 2,
   "metadata": {},
   "outputs": [
    {
     "name": "stdout",
     "output_type": "stream",
     "text": [
      "ThirdFirstSecond\n",
      "\n",
      "\n",
      "1.1014273166656494\n"
     ]
    }
   ],
   "source": [
    "import time\n",
    "import threading\n",
    "\n",
    "\n",
    "def wait_and_print_async(msg):\n",
    "    def callback():\n",
    "        print(msg, flush=True)\n",
    "\n",
    "    timer = threading.Timer(1.0, callback)\n",
    "    timer.start()\n",
    "\n",
    "\n",
    "start = time.time()\n",
    "wait_and_print_async('First')\n",
    "wait_and_print_async('Second')\n",
    "wait_and_print_async('Third')\n",
    "\n",
    "time.sleep(1.1)\n",
    "print(time.time() - start)"
   ]
  },
  {
   "cell_type": "markdown",
   "metadata": {},
   "source": [
    "`Timer` 是非阻塞的，因为它开启了一个新线程，它仅仅 submit 了一个调用，而非 execute 它。一个问题是，这里的`callback` 无法返回值。改为："
   ]
  },
  {
   "cell_type": "code",
   "execution_count": 3,
   "metadata": {},
   "outputs": [
    {
     "name": "stdout",
     "output_type": "stream",
     "text": [
      "result is 4result is 16result is 9\n",
      "\n",
      "\n",
      "1.103153944015503\n"
     ]
    }
   ],
   "source": [
    "import time\n",
    "import threading\n",
    "\n",
    "\n",
    "def network_request_async(n, on_done):\n",
    "\n",
    "    def timer_done():\n",
    "        on_done({'success': True, 'result': n ** 2})\n",
    "\n",
    "    timer = threading.Timer(1.0, timer_done)\n",
    "    timer.start()\n",
    "\n",
    "\n",
    "def fetch_square(n):\n",
    "    def on_done(result):\n",
    "        if result['success']:\n",
    "            print(f'result is {result[\"result\"]}')\n",
    "\n",
    "    network_request_async(n, on_done)\n",
    "\n",
    "\n",
    "start = time.time()\n",
    "fetch_square(2)\n",
    "fetch_square(3)\n",
    "fetch_square(4)\n",
    "\n",
    "time.sleep(1.1)\n",
    "print(time.time() - start)\n"
   ]
  },
  {
   "cell_type": "markdown",
   "metadata": {},
   "source": [
    "### Futures\n",
    "\n",
    "上面使用 callback 将值返回给调用者。Future 可以更方便地跟踪异步调用的结果。Future 是一种抽象，顾名思义，用于跟踪请求并等待的资源，其值将在 future 获得。"
   ]
  },
  {
   "cell_type": "code",
   "execution_count": 8,
   "metadata": {},
   "outputs": [
    {
     "name": "stdout",
     "output_type": "stream",
     "text": [
      "<Future at 0x10f6c9c50 state=pending>\n",
      "<Future at 0x10f6c9c50 state=finished returned int>\n"
     ]
    },
    {
     "data": {
      "text/plain": [
       "1"
      ]
     },
     "execution_count": 8,
     "metadata": {},
     "output_type": "execute_result"
    }
   ],
   "source": [
    "from concurrent.futures import Future\n",
    "\n",
    "future = Future()\n",
    "print(future)\n",
    "\n",
    "future.set_result(1)\n",
    "print(future)\n",
    "\n",
    "future.result()"
   ]
  },
  {
   "cell_type": "markdown",
   "metadata": {},
   "source": [
    "现在将 network_request_async 例子改写为："
   ]
  },
  {
   "cell_type": "code",
   "execution_count": 9,
   "metadata": {},
   "outputs": [
    {
     "name": "stdout",
     "output_type": "stream",
     "text": [
      "result is 9result is 4\n",
      "\n",
      "result is 16\n",
      "1.1013798713684082\n"
     ]
    }
   ],
   "source": [
    "import time\n",
    "import threading\n",
    "from concurrent.futures import Future\n",
    "\n",
    "\n",
    "def network_request_async(n):\n",
    "    future = Future()\n",
    "    result = {'success': True, 'result': n ** 2}\n",
    "    timer = threading.Timer(1.0, lambda: future.set_result(result))\n",
    "    timer.start()\n",
    "    return future\n",
    "\n",
    "\n",
    "def fetch_square(n):\n",
    "    fut = network_request_async(n)\n",
    "\n",
    "    def on_done(future):\n",
    "        result = future.result()\n",
    "        if result['success']:\n",
    "            print(f'result is {result[\"result\"]}')\n",
    "\n",
    "    fut.add_done_callback(on_done)\n",
    "\n",
    "\n",
    "start = time.time()\n",
    "fetch_square(2)\n",
    "fetch_square(3)\n",
    "fetch_square(4)\n",
    "\n",
    "time.sleep(1.1)\n",
    "print(time.time() - start)"
   ]
  },
  {
   "cell_type": "markdown",
   "metadata": {},
   "source": [
    "### Event Loop\n",
    "\n",
    "至此，皆是通过 OS 的线程来实现并发，但在某些框架中，并发任务的协调是通过 event loop 完成的。\n",
    "\n",
    "EL 的基本思路是，持续监控各个资源的状态，在需要的时候触发对 callback 的调用。在 EL 中，每个执行单元的代码不会同时执行，从而简化了对于共享变量、数据结构和资源的管理，因此比多线程更为简单。"
   ]
  },
  {
   "cell_type": "code",
   "execution_count": 10,
   "metadata": {},
   "outputs": [
    {
     "name": "stdout",
     "output_type": "stream",
     "text": [
      "Job2 is done...\n",
      "Job1 is done...\n"
     ]
    }
   ],
   "source": [
    "import time\n",
    "\n",
    "\n",
    "class Timer:\n",
    "    def __init__(self, timeout):\n",
    "        self.timeout = timeout\n",
    "        self.start = time.time()\n",
    "        self.callback = None\n",
    "\n",
    "    def done(self):\n",
    "        return time.time() - self.start > self.timeout\n",
    "\n",
    "    def on_timer_done(self, callback):\n",
    "        self.callback = callback\n",
    "\n",
    "\n",
    "timer1 = Timer(0.2)\n",
    "timer1.on_timer_done(lambda: print('Job1 is done...'))\n",
    "\n",
    "timer2 = Timer(0.1)\n",
    "timer2.on_timer_done(lambda: print('Job2 is done...'))\n",
    "timers = [timer1, timer2]\n",
    "\n",
    "while True:\n",
    "    for timer in timers:\n",
    "        if timer.done():\n",
    "            timer.callback()\n",
    "            timers.remove(timer)\n",
    "\n",
    "    if not timers:\n",
    "        break"
   ]
  },
  {
   "cell_type": "markdown",
   "metadata": {},
   "source": [
    "这里，在 loop 之外，只是定义 timer 与其 callback，loop 则负责监控 timers，并执行相应的 callback。\n",
    "\n",
    "EL 不会使用阻塞式调用。事件的通知通常使用 OS 调用（如 Unix 的 select）。Python 标准库中包含了一个方便的基于 EL 的并发框架：`asyncio`。\n",
    "\n",
    "## `asyncio` 框架\n",
    "\n"
   ]
  },
  {
   "cell_type": "code",
   "execution_count": 15,
   "metadata": {},
   "outputs": [
    {
     "name": "stdout",
     "output_type": "stream",
     "text": [
      "Parrot says: hello\n",
      "Parrot says: world\n"
     ]
    }
   ],
   "source": [
    "def parrot():\n",
    "    while True:\n",
    "        msg = yield\n",
    "        print(f'Parrot says: {msg}')\n",
    "        \n",
    "        \n",
    "gen = parrot()\n",
    "# TypeError: can't send non-None value to a just-started generator\n",
    "gen.send(None)\n",
    "gen.send('hello')\n",
    "gen.send('world')"
   ]
  },
  {
   "cell_type": "code",
   "execution_count": 17,
   "metadata": {},
   "outputs": [
    {
     "data": {
      "text/plain": [
       "<coroutine object hello at 0x10f728ca8>"
      ]
     },
     "execution_count": 17,
     "metadata": {},
     "output_type": "execute_result"
    }
   ],
   "source": [
    "async def hello():\n",
    "    print('hello, async')\n",
    "    \n",
    "coro = hello()\n",
    "coro"
   ]
  },
  {
   "cell_type": "code",
   "execution_count": 18,
   "metadata": {},
   "outputs": [
    {
     "name": "stdout",
     "output_type": "stream",
     "text": [
      "hello, async\n"
     ]
    }
   ],
   "source": [
    "import asyncio\n",
    "\n",
    "loop = asyncio.get_event_loop()\n",
    "loop.run_until_complete(coro)"
   ]
  },
  {
   "cell_type": "markdown",
   "metadata": {},
   "source": [
    "### 阻塞与非阻塞\n",
    "\n",
    "处理阻塞式代码的策略是使用单独线程，可使用 `ThreadPoolExcutor`。"
   ]
  },
  {
   "cell_type": "code",
   "execution_count": 20,
   "metadata": {},
   "outputs": [
    {
     "data": {
      "text/plain": [
       "<Future at 0x10f77ffd0 state=running>"
      ]
     },
     "execution_count": 20,
     "metadata": {},
     "output_type": "execute_result"
    }
   ],
   "source": [
    "from concurrent.futures import ThreadPoolExecutor\n",
    "\n",
    "\n",
    "def wait_and_return(msg):\n",
    "    time.sleep(1)\n",
    "    return msg\n",
    "\n",
    "\n",
    "executor = ThreadPoolExecutor(max_workers=3)\n",
    "result = executor.submit(wait_and_return, \"hello\")\n",
    "result"
   ]
  },
  {
   "cell_type": "code",
   "execution_count": 22,
   "metadata": {},
   "outputs": [
    {
     "data": {
      "text/plain": [
       "'hello'"
      ]
     },
     "execution_count": 22,
     "metadata": {},
     "output_type": "execute_result"
    }
   ],
   "source": [
    "result.result()"
   ]
  },
  {
   "cell_type": "code",
   "execution_count": 23,
   "metadata": {},
   "outputs": [
    {
     "data": {
      "text/plain": [
       "<Future pending cb=[_chain_future.<locals>._call_check_cancel() at /Applications/anaconda/anaconda3/lib/python3.6/asyncio/futures.py:408]>"
      ]
     },
     "execution_count": 23,
     "metadata": {},
     "output_type": "execute_result"
    }
   ],
   "source": [
    "# manage the execution of tasks in asyncio\n",
    "future = loop.run_in_executor(executor, wait_and_return, \"hello\")\n",
    "future # not running"
   ]
  },
  {
   "cell_type": "code",
   "execution_count": 24,
   "metadata": {},
   "outputs": [
    {
     "data": {
      "text/plain": [
       "'hello'"
      ]
     },
     "execution_count": 24,
     "metadata": {},
     "output_type": "execute_result"
    }
   ],
   "source": [
    "# start to run\n",
    "loop.run_until_complete(future)"
   ]
  },
  {
   "cell_type": "code",
   "execution_count": null,
   "metadata": {
    "collapsed": true
   },
   "outputs": [],
   "source": []
  }
 ],
 "metadata": {
  "kernelspec": {
   "display_name": "Python 3",
   "language": "python",
   "name": "python3"
  },
  "language_info": {
   "codemirror_mode": {
    "name": "ipython",
    "version": 3
   },
   "file_extension": ".py",
   "mimetype": "text/x-python",
   "name": "python",
   "nbconvert_exporter": "python",
   "pygments_lexer": "ipython3",
   "version": "3.6.3"
  },
  "varInspector": {
   "cols": {
    "lenName": 16,
    "lenType": 16,
    "lenVar": 40
   },
   "kernels_config": {
    "python": {
     "delete_cmd_postfix": "",
     "delete_cmd_prefix": "del ",
     "library": "var_list.py",
     "varRefreshCmd": "print(var_dic_list())"
    },
    "r": {
     "delete_cmd_postfix": ") ",
     "delete_cmd_prefix": "rm(",
     "library": "var_list.r",
     "varRefreshCmd": "cat(var_dic_list()) "
    }
   },
   "types_to_exclude": [
    "module",
    "function",
    "builtin_function_or_method",
    "instance",
    "_Feature"
   ],
   "window_display": false
  }
 },
 "nbformat": 4,
 "nbformat_minor": 2
}
