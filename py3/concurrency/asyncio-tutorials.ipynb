{
 "cells": [
  {
   "cell_type": "markdown",
   "metadata": {},
   "source": [
    "# asyncio - Asynchronous I/O\n",
    "\n",
    "## 概览\n",
    "\n",
    "asyncio 是一个使用 async/await 语法编写并发代码的库。\n",
    "\n",
    "asyncio 用作多个 Python 异步框架的基础，这些框架提供了高性能的网络、Web 服务、数据库连接、分布式队列等功能。\n",
    "\n",
    "asyncio 非常适合用于 IO-bound 和高结构化的网络代码。\n",
    "\n",
    "asycnio 提供了一组 high-level APIs，如：\n",
    "\n",
    "* 并发地执行 Python 协程，且可以完全地控制它们；\n",
    "* 实现网络 IO 和 IPC；\n",
    "* 控制子进程；\n",
    "* 使用队列分发任务；\n",
    "* 同步并发代码\n",
    "\n",
    "此外，也提供了 low-level 的 APIs，如：\n",
    "\n",
    "* 创建和管理 event loop；\n",
    "* 实现高效协议；\n",
    "* 桥接基于回调的库和基于 async/await 的代码。\n",
    "\n",
    "## Coroutines and Tasks\n",
    "\n",
    "### 协程\n",
    "\n",
    "asyncio 版本的 Hello World："
   ]
  },
  {
   "cell_type": "code",
   "execution_count": null,
   "metadata": {},
   "outputs": [],
   "source": [
    "import asyncio\n",
    "\n",
    "async def main():\n",
    "    print('hello')\n",
    "    await asyncio.sleep(1)\n",
    "    print('world')\n",
    "    \n",
    "asyncio.run(main())"
   ]
  },
  {
   "cell_type": "markdown",
   "metadata": {},
   "source": [
    "如果直接调用 `main()`，那么结果只是一个”协程“，函数并不实际执行。要执行之，有三种方式：\n",
    "\n",
    "* asyncio.main()，运行顶层的入口函数\n",
    "* await 一个协程\n",
    "* asyncio.create_task()，并行的执行 Tasks"
   ]
  },
  {
   "cell_type": "code",
   "execution_count": null,
   "metadata": {},
   "outputs": [],
   "source": [
    "# awaiting\n",
    "import asyncio\n",
    "import time\n",
    "\n",
    "async def say_after(delay, what):\n",
    "    await asyncio.sleep(delay)\n",
    "    print(what)\n",
    "\n",
    "async def main():\n",
    "    print(f\"started at {time.strftime('%X')}\")\n",
    "\n",
    "    await say_after(1, 'hello')\n",
    "    await say_after(2, 'world')\n",
    "\n",
    "    print(f\"finished at {time.strftime('%X')}\")\n",
    "\n",
    "asyncio.run(main())"
   ]
  },
  {
   "cell_type": "code",
   "execution_count": null,
   "metadata": {},
   "outputs": [],
   "source": [
    "# create_task\n",
    "import asyncio\n",
    "import time\n",
    "\n",
    "async def say_after(delay, what):\n",
    "    await asyncio.sleep(delay)\n",
    "    print(what)\n",
    "\n",
    "async def main():\n",
    "    task1 = asyncio.create_task(say_after(1, 'hello'))\n",
    "    task2 = asyncio.create_task(say_after(2, 'world'))\n",
    "\n",
    "    print(f\"started at {time.strftime('%X')}\")\n",
    "    await task1\n",
    "    await task2\n",
    "    print(f\"finished at {time.strftime('%X')}\")\n",
    "\n",
    "asyncio.run(main())"
   ]
  },
  {
   "cell_type": "markdown",
   "metadata": {},
   "source": [
    "create_task 版本比 awating 版本快了约一秒，原因是，create_task 后，任务马上开始，后面的await是等待其执行结束。\n",
    "\n",
    "## Awaitables\n",
    "\n",
    "一个对象是 awaitable 的，如果可以用在 await 表达式中。有三种 awaitable 对象：协程、Tasks、Futures。\n",
    "\n",
    "## 重要函数\n",
    "\n",
    "### asyncio.run()\n",
    "\n",
    "应作为异步程序的主入口点。\n",
    "\n",
    "### asyncio.create_task()\n",
    "\n",
    "代替之前的 ensure_future()。\n",
    "\n",
    "### sleep()\n",
    "\n",
    "Block for delay seconds.\n",
    "\n",
    "### gather()"
   ]
  },
  {
   "cell_type": "code",
   "execution_count": null,
   "metadata": {},
   "outputs": [],
   "source": [
    "async def factorial(name, n):\n",
    "    f = 1\n",
    "    for i in range(2, n+1):\n",
    "        print(f'Task {name}: compute factorial({i})...')\n",
    "        await asyncio.sleep(1)\n",
    "        f *= i\n",
    "    print(f'Task {name}: compute factorial({n}) = {f}')\n",
    "\n",
    "async def main():\n",
    "    # schedule 3 tasks\n",
    "    await asyncio.gather(\n",
    "        factorial('A', 2),\n",
    "        factorial('B', 3),\n",
    "        factorial('C', 4),\n",
    "    )\n",
    "\n",
    "asyncio.run(main())"
   ]
  },
  {
   "cell_type": "code",
   "execution_count": null,
   "metadata": {},
   "outputs": [],
   "source": []
  }
 ],
 "metadata": {
  "kernelspec": {
   "display_name": "Python 3",
   "language": "python",
   "name": "python3"
  },
  "language_info": {
   "codemirror_mode": {
    "name": "ipython",
    "version": 3
   },
   "file_extension": ".py",
   "mimetype": "text/x-python",
   "name": "python",
   "nbconvert_exporter": "python",
   "pygments_lexer": "ipython3",
   "version": "3.7.3"
  },
  "varInspector": {
   "cols": {
    "lenName": 16,
    "lenType": 16,
    "lenVar": 40
   },
   "kernels_config": {
    "python": {
     "delete_cmd_postfix": "",
     "delete_cmd_prefix": "del ",
     "library": "var_list.py",
     "varRefreshCmd": "print(var_dic_list())"
    },
    "r": {
     "delete_cmd_postfix": ") ",
     "delete_cmd_prefix": "rm(",
     "library": "var_list.r",
     "varRefreshCmd": "cat(var_dic_list()) "
    }
   },
   "types_to_exclude": [
    "module",
    "function",
    "builtin_function_or_method",
    "instance",
    "_Feature"
   ],
   "window_display": false
  }
 },
 "nbformat": 4,
 "nbformat_minor": 2
}
