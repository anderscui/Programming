{
 "cells": [
  {
   "cell_type": "markdown",
   "metadata": {},
   "source": [
    "原文链接：[Async IO in Python](https://realpython.com/async-io-python/)\n",
    "\n",
    "主要内容：\n",
    "\n",
    "* 异步 IO：语言无关的编程范式，在多种语言中都有实现。\n",
    "* async/await：Python 中的两个新关键字\n",
    "* asyncio：Python 包，提供了运行和管理 coroutine 的 API。\n",
    "\n",
    "协程是 asyncio 的核心，需要仔细了解。\n",
    "\n",
    "# Async IO 概览\n",
    "\n",
    "## Async IO 适合的场景\n",
    "\n",
    "并发（Concurrency）和并行（Parallelism）是被广泛使用的术语。\n",
    "\n",
    "* 并行：包含多个**同时执行**的操作。**多进程（Multiprocessing）**是实现并行的一种方式。多进程处理适用于CPU-bound的任务。\n",
    "* 并发：比并行范围更广，它表示多个任务可以**同时存在（从而执行之）**，关键是同时存在并不真正同时执行，比如单核CPU的情形。\n",
    "* 多线程：并发执行模型的一种。多线程适合IO-bound任务。\n",
    "\n",
    "Python 标准库早已支持以上各种机制，通过 `multiprocessing`、 `threading` 和 `concurrent.futures` 这些包。\n",
    "\n",
    "**Async IO（asyncio）**是较新的一个包，但在其它语言已有实现，如`Go`、`C#`等。\n",
    "\n",
    "asyncio 的文档说它是一个编写并发代码的库，但它不是多进程的，甚至不是多线程的，看起来很神秘。它是单线程、单进程的设计：它使用**协作式多任务（cooperative multitasking）**。\n",
    "\n",
    "还有另一个概念：**异步（asynchronous）**，它有两个性质：\n",
    "\n",
    "* 异步例程可以“暂停”，等待其它结果到来，并让其它例程执行；\n",
    "* 异步代码，通过上述机制，实现并发执行，换言之，异步代码是一种并发的实现方式。\n",
    "\n",
    "## asyncio 详解\n",
    "\n",
    "asyncio 乍看起来是反直觉的，毕竟单线程如何实现并发呢？下面这个解释或许有所帮助。\n",
    "\n",
    "象棋大师波尔加同时与24名业余棋手下棋，假设她每步棋需要5秒，对手需要55秒，每盘棋走30个来回。她有同步和异步两种方式来走：\n",
    "\n",
    "* 同步：每次只与一个人下棋，下完需要30分钟，总共需要12小时。\n",
    "* 异步：波尔加逐桌下过去，每走完一步，就留给对手去走，最后需要的时间只是1小时左右。\n",
    "\n",
    "两种方式，都是一个人走完所有的步数，但时间差了许多。关键在于，对手们等待的时间少了许多。\n",
    "\n",
    "## asyncio 不容易\n",
    "\n",
    "# asyncio 包与 `async/await`\n",
    "\n",
    "## 协程\n",
    "\n",
    "asyncio的内核乃是协程。协程是一种函数，它可以在return之前挂起执行，将执行传给其它协程。"
   ]
  },
  {
   "cell_type": "code",
   "execution_count": null,
   "metadata": {
    "collapsed": true
   },
   "outputs": [],
   "source": [
    "# coding=utf-8\n",
    "\n",
    "import asyncio\n",
    "\n",
    "\n",
    "async def count():\n",
    "    print('one')\n",
    "    await asyncio.sleep(1)\n",
    "    print('two')\n",
    "\n",
    "\n",
    "async def main():\n",
    "    await asyncio.gather(count(), count(), count())\n",
    "\n",
    "\n",
    "if __name__ == '__main__':\n",
    "    import time\n",
    "    start = time.perf_counter()\n",
    "    asyncio.run(main())\n",
    "    elapsed = time.perf_counter() - start\n",
    "    print(f'{__file__} executed in {elapsed:0.2f} seconds.')\n"
   ]
  },
  {
   "cell_type": "markdown",
   "metadata": {},
   "source": [
    "这里的一个关键点是，`await asyncio.sleep` 是非阻塞调用，因此执行到这里后，其它函数可以继续执行。`await` 某个调用，将执行权转交给其它可以立即做事的程序。而 `time.sleep` 则是典型的阻塞调用。\n",
    "\n",
    "## asyncio 规则\n",
    "\n",
    "* `async def` 引入一个原生协程（native coroutine）或异步生成器（asynchronous generator）。\n",
    "* `await` 将控制权返回event loop，后者挂起 await 语句所在的程序。"
   ]
  },
  {
   "cell_type": "code",
   "execution_count": 2,
   "metadata": {
    "collapsed": true
   },
   "outputs": [],
   "source": [
    "async def g():\n",
    "    # Pause here and come back to g() when f() is ready\n",
    "    r = await f()\n",
    "    return r"
   ]
  },
  {
   "cell_type": "markdown",
   "metadata": {},
   "source": [
    "`async/await`的使用范围亦有严格限定。\n",
    "\n",
    "* 通过`async def`定义的函数是协程，它可以使用`await`、`return`或`yield`，但都是可选的。\n",
    "    - `await`、`return`创建协程函数，要调用之，需要使用`await`获取其返回值；\n",
    "    - `yield`创建异步生成器，可用于`yield for`。\n",
    "    - 不可以使用`yield from`\n",
    "* `async def`协程之外的地方不可以使用`await`。\n",
    "* 使用`await f()`时，f需要是awaitable的，即要么是协程，要么是定义了`__await__`方法。\n",
    "\n",
    "py 3.4 使用装饰器，3.5 使用 async/await，前者是 generator-based，后者是 native 的。\n",
    "\n",
    "大部分程序包含小的、模块化的协程以及一个 wrapper 函数，wrapper 串联起各个协程，收集其结果。"
   ]
  },
  {
   "cell_type": "code",
   "execution_count": null,
   "metadata": {
    "collapsed": true
   },
   "outputs": [],
   "source": [
    "# coding=utf-8\n",
    "import asyncio\n",
    "import random\n",
    "\n",
    "# ANSI colors\n",
    "c = (\n",
    "    \"\\033[0m\",   # End of color\n",
    "    \"\\033[36m\",  # Cyan\n",
    "    \"\\033[91m\",  # Red\n",
    "    \"\\033[35m\",  # Magenta\n",
    ")\n",
    "\n",
    "\n",
    "async def makerandom(idx: int, threshold: int = 6) -> int:\n",
    "    print(c[idx + 1] + f\"Initiated makerandom({idx}).\")\n",
    "    i = random.randint(0, 10)\n",
    "    while i <= threshold:\n",
    "        print(c[idx + 1] + f\"makerandom({idx}) == {i} too low; retrying.\")\n",
    "        await asyncio.sleep(idx + 1)\n",
    "        i = random.randint(0, 10)\n",
    "    print(c[idx + 1] + f\"---> Finished: makerandom({idx}) == {i}\" + c[0])\n",
    "    return i\n",
    "\n",
    "\n",
    "async def main():\n",
    "    res = await asyncio.gather(*(makerandom(i, 10 - i - 1) for i in range(3)))\n",
    "    return res\n",
    "\n",
    "\n",
    "if __name__ == \"__main__\":\n",
    "    random.seed(444)\n",
    "    r1, r2, r3 = asyncio.run(main())\n",
    "    print()\n",
    "    print(f\"r1: {r1}, r2: {r2}, r3: {r3}\")"
   ]
  },
  {
   "cell_type": "markdown",
   "metadata": {
    "collapsed": true
   },
   "source": [
    "# Async IO 设计模式\n",
    "\n",
    "## Chaining\n",
    "\n",
    "协程的一个重要特点是可以链式使用，如此可将程序分解为更小的部分。\n",
    "\n",
    "## 作为 Queue\n",
    "\n",
    "asyncio 提供了 Queue 类，类似于 queue 模块中同名类。\n",
    "\n",
    "除了上述例子中演示的情况，还有其它可能，若干 producer，彼此不相关，都会像一个 queue 中添加 item。同时有 consumer 从 queue 中 pull 条目，消费之，对 producer 有多少个，条目有几何，皆不知情。此时，queue 充当两者的协调者。"
   ]
  },
  {
   "cell_type": "code",
   "execution_count": null,
   "metadata": {},
   "outputs": [],
   "source": [
    "# coding=utf-8\n",
    "import asyncio\n",
    "import itertools as it\n",
    "import os\n",
    "import random\n",
    "import time\n",
    "\n",
    "\n",
    "async def makeitem(size: int = 5) -> str:\n",
    "    return os.urandom(size).hex()\n",
    "\n",
    "\n",
    "async def randsleep(a: int = 1, b: int = 5, caller=None) -> None:\n",
    "    i = random.randint(0, 10)\n",
    "    if caller:\n",
    "        print(f\"{caller} sleeping for {i} seconds.\")\n",
    "    await asyncio.sleep(i)\n",
    "\n",
    "\n",
    "async def produce(name: int, q: asyncio.Queue) -> None:\n",
    "    n = random.randint(0, 10)\n",
    "    for _ in it.repeat(None, n):  # Synchronous loop for each single producer\n",
    "        await randsleep(caller=f\"Producer {name}\")\n",
    "        i = await makeitem()\n",
    "        t = time.perf_counter()\n",
    "        await q.put((i, t))\n",
    "        print(f\"Producer {name} added <{i}> to queue.\")\n",
    "\n",
    "\n",
    "async def consume(name: int, q: asyncio.Queue) -> None:\n",
    "    while True:\n",
    "        await randsleep(caller=f\"Consumer {name}\")\n",
    "        i, t = await q.get()\n",
    "        now = time.perf_counter()\n",
    "        print(f\"Consumer {name} got element <{i}>\"\n",
    "              f\" in {now-t:0.5f} seconds.\")\n",
    "        q.task_done()\n",
    "\n",
    "\n",
    "async def main(nprod: int, ncon: int):\n",
    "    q = asyncio.Queue()\n",
    "    producers = [asyncio.create_task(produce(n, q)) for n in range(nprod)]\n",
    "    consumers = [asyncio.create_task(consume(n, q)) for n in range(ncon)]\n",
    "    await asyncio.gather(*producers)\n",
    "    await q.join()  # Implicitly awaits consumers, too\n",
    "    for c in consumers:\n",
    "        c.cancel()\n",
    "\n",
    "if __name__ == \"__main__\":\n",
    "    import argparse\n",
    "    random.seed(444)\n",
    "    parser = argparse.ArgumentParser()\n",
    "    parser.add_argument(\"-p\", \"--nprod\", type=int, default=5)\n",
    "    parser.add_argument(\"-c\", \"--ncon\", type=int, default=10)\n",
    "    ns = parser.parse_args()\n",
    "    start = time.perf_counter()\n",
    "    asyncio.run(main(**ns.__dict__))\n",
    "    elapsed = time.perf_counter() - start\n",
    "    print(f\"Program completed in {elapsed:0.5f} seconds.\")\n"
   ]
  },
  {
   "cell_type": "markdown",
   "metadata": {},
   "source": [
    "## Async IO 源于 Generator\n",
    "\n",
    "generator 的一个重要特征是，它可以停止，之后也可以重启。生成器之所以优于函数，概由于此。"
   ]
  },
  {
   "cell_type": "code",
   "execution_count": 3,
   "metadata": {},
   "outputs": [
    {
     "name": "stdout",
     "output_type": "stream",
     "text": [
      "<generator object endless at 0x11269bc50>\n",
      "9 8 7 6 \n"
     ]
    },
    {
     "data": {
      "text/plain": [
       "(8, 7)"
      ]
     },
     "execution_count": 3,
     "metadata": {},
     "output_type": "execute_result"
    }
   ],
   "source": [
    "from itertools import cycle\n",
    "\n",
    "def endless():\n",
    "    yield from cycle((9, 8, 7, 6))\n",
    "    \n",
    "e = endless()\n",
    "print(e)\n",
    "\n",
    "total = 0\n",
    "for i in e:\n",
    "    if total < 30:\n",
    "        print(i, end=' ')\n",
    "        total += i\n",
    "    else:\n",
    "        print()\n",
    "        break\n",
    "        \n",
    "# resume\n",
    "next(e), next(e)"
   ]
  },
  {
   "cell_type": "markdown",
   "metadata": {},
   "source": [
    "await 与此类似，它标记出一个breakpoint，挂起执行。\n",
    "\n",
    "generator 另一个特征是，可以通过 `send` 方法发送一个值。\n",
    "\n",
    "简言之：\n",
    "\n",
    "* 协程是生成器的改头换面\n",
    "* 基于生成器的协程使用 yield from，原生的则代之以 await\n",
    "* await 可看作一个信号，标记出breakpoint，它让协程暂时挂起，运行程序晚点之后回来\n",
    "\n",
    "## 其它特征：async for\n",
    "\n",
    "async for 用于迭代一个异步迭代器，以及异步生成器、异步推导。\n",
    "\n",
    "异步推导，并非以并发方式去 map 一个 iterable。事实上，`async for` 与 `async with` 使用时都是因为，`for` 与 `with` 会打破 `await`的特征。\n",
    "\n",
    "## Event Loop 与 asyncio.run()\n",
    "\n",
    "事件循环监控协程们的运行，接收到某些协程 idle 的反馈，寻找可在同时执行的其它任务。当某个协程拿到 wait 的结果时，使其继续执行。\n",
    "\n",
    "目前的用法都是：\n",
    "\n",
    "```python\n",
    "asyncio.run(main())\n",
    "```\n",
    "\n",
    "更老的一种是："
   ]
  },
  {
   "cell_type": "code",
   "execution_count": null,
   "metadata": {
    "collapsed": true
   },
   "outputs": [],
   "source": [
    "loop = asyncio.get_event_loop()\n",
    "try:\n",
    "    loop.run_until_complete(main())\n",
    "finally:\n",
    "    loop.close()"
   ]
  },
  {
   "cell_type": "markdown",
   "metadata": {},
   "source": [
    "# Async IO 何时使用\n",
    "\n",
    "async io 与多进程并非直接”对手“，实际上他们可以结合使用。如果有多个较为均匀的 CPU-bound 任务，那么多进程是不二之选。另外，如果函数都是阻塞式调用，那么一概添加 aysnc 也毫无益处。\n",
    "\n",
    "至于多线程，两者对比更为明显。线程属于系统资源，扩展性有限。在一台机器上，创建数千个 async io 任务是 feasible 的。\n",
    "\n",
    "`async io`适用的地方是，有多个IO-bound的任务，如果不使用，会导致大量的 IO-bound 等待时间，如：\n",
    "\n",
    "* Network IO\n",
    "* Serverless designs，如 group chatroom\n",
    "* 读写操作，你希望模拟”fire-and-forget“风格，但不希望担心各种”lock“问题。\n",
    "\n",
    "而它不适用的地方是，它仅支持有限的一组方法。如果要访问某个DBMS，那么需要一个新的支持 async/await 的 wrapper，否则包含同步调用的协程会极大的阻塞其它协程的执行。"
   ]
  },
  {
   "cell_type": "code",
   "execution_count": null,
   "metadata": {
    "collapsed": true
   },
   "outputs": [],
   "source": []
  }
 ],
 "metadata": {
  "kernelspec": {
   "display_name": "Python 3",
   "language": "python",
   "name": "python3"
  },
  "language_info": {
   "codemirror_mode": {
    "name": "ipython",
    "version": 3
   },
   "file_extension": ".py",
   "mimetype": "text/x-python",
   "name": "python",
   "nbconvert_exporter": "python",
   "pygments_lexer": "ipython3",
   "version": "3.6.3"
  },
  "varInspector": {
   "cols": {
    "lenName": 16,
    "lenType": 16,
    "lenVar": 40
   },
   "kernels_config": {
    "python": {
     "delete_cmd_postfix": "",
     "delete_cmd_prefix": "del ",
     "library": "var_list.py",
     "varRefreshCmd": "print(var_dic_list())"
    },
    "r": {
     "delete_cmd_postfix": ") ",
     "delete_cmd_prefix": "rm(",
     "library": "var_list.r",
     "varRefreshCmd": "cat(var_dic_list()) "
    }
   },
   "types_to_exclude": [
    "module",
    "function",
    "builtin_function_or_method",
    "instance",
    "_Feature"
   ],
   "window_display": false
  }
 },
 "nbformat": 4,
 "nbformat_minor": 2
}
